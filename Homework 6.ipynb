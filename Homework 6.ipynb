{
 "cells": [
  {
   "cell_type": "markdown",
   "id": "6d0a4c25",
   "metadata": {},
   "source": [
    "# Урок 6\n",
    "# Производная функции одной переменной. Часть 2"
   ]
  },
  {
   "cell_type": "markdown",
   "id": "09d991f8",
   "metadata": {},
   "source": [
    "__1.__ Найти производную $y'_{x}$ функции:\n",
    "\n",
    "### $$\\mbox{arctg}(\\frac{y}{x})=\\ln \\sqrt{x^2+y^2}$$"
   ]
  },
  {
   "cell_type": "markdown",
   "id": "2029d797",
   "metadata": {},
   "source": [
    "### $F(x, y(x)) = \\mbox{arctg}(\\frac{y}{x}) - \\ln \\sqrt{x^2+y^2} = 0$\n",
    "### $y'_x = -\\frac {F'_{х}}{F'_{y}}$\n",
    "### $y'_x = -\\frac{\\frac{1}{1+\\frac{y^2}{x^2}}\\cdot(-y)\\cdot\\frac{1}{x^2} - \\frac{1}{\\sqrt{x^2+y^2}}\\cdot\\frac{1}{2}\\cdot\\frac{1}{\\sqrt{x^2+y^2}}\\cdot2x}{\\frac{1}{1+\\frac{y^2}{x^2}}\\cdot\\frac{1}{x} - \\frac{1}{\\sqrt{x^2+y^2}}\\cdot\\frac{1}{2}\\cdot\\frac{1}{\\sqrt{x^2+y^2}}\\cdot2y} = -\\frac{\\frac{-y}{(1+\\frac{y^2}{x^2})\\cdot{x^2}} - \\frac{x}{x^2+y^2}}{\\frac{1}{(1+\\frac{y^2}{x^2})\\cdot{x}} - \\frac{y}{x^2+y^2}} = \\frac{\\frac{y}{x^2+y^2} + \\frac{x}{x^2+y^2}}{\\frac{x}{x^2+y^2} - \\frac{y}{x^2+y^2}} = \\frac{x+y}{x-y}$ "
   ]
  },
  {
   "cell_type": "markdown",
   "id": "ad7e9395",
   "metadata": {},
   "source": [
    "__2.__ Найти производную $y'_{x}$ функции:\n",
    "\n",
    "### \\begin{cases}\n",
    "   y=\\frac{t^2}{t-1}, \\\\\n",
    "   x=\\frac{t}{t^2-1} \n",
    " \\end{cases}"
   ]
  },
  {
   "cell_type": "markdown",
   "id": "a111db2f",
   "metadata": {},
   "source": [
    "### $y'_x = \\frac {y'_{t}}{x'_{t}}= \\frac{\\frac{2t\\cdot(t-1)-t^2}{(t-1)^2}}{\\frac{1\\cdot(t^2-1)-t\\cdot2t}{(t^2-1)^2}} = \\frac{\\frac{t^2-2t}{(t-1)^2}}{\\frac{-1-t^2}{(t-1)^2\\cdot(t+1)^2}} = -\\frac{t(t-2)(t+1)^2}{t^2+1} =-\\frac{t(t^3-3t-2)}{t^2+1}$"
   ]
  },
  {
   "cell_type": "markdown",
   "id": "6d6ea14c",
   "metadata": {},
   "source": [
    "__3.__ Найти производную с помощью логарифмирования:\n",
    "\n",
    "### $$y=(x^2+2)^5\\cdot(3x-x^3)^3$$"
   ]
  },
  {
   "cell_type": "markdown",
   "id": "2611d0f9",
   "metadata": {},
   "source": [
    "### $y'=f(x)\\cdot (\\ln f(x))' = (x^2+2)^5\\cdot(3x-x^3)^3\\cdot\\ln((x^2+2)^5\\cdot(3x-x^3)^3)' = $\n",
    "### $= (x^2+2)^5\\cdot(3x-x^3)^3\\cdot\\bigl(5\\cdot\\frac{(x^2+2)'}{x^2+2} + 3\\cdot\\frac{(3x-x^3)'}{3x-x^3}\\bigr) = (x^2+2)^5\\cdot(3x-x^3)^3\\cdot\\bigl(5\\cdot\\frac{2x}{x^2+2} + 3\\cdot\\frac{(3-3x^2)}{3x-x^3}\\bigr) = $\n",
    "### $= 10x\\cdot(x^2+2)^4\\cdot(3x-x^3)^3 + 9\\cdot(1-x^2)\\cdot(x^2+2)^5\\cdot(3x-x^3)^2$"
   ]
  },
  {
   "cell_type": "markdown",
   "id": "2e5835a0",
   "metadata": {},
   "source": [
    "__4.__ Найти производную функции с помощью логарифмирования:\n",
    "\n",
    "### $$y=x^x$$"
   ]
  },
  {
   "cell_type": "markdown",
   "id": "8d275ac2",
   "metadata": {},
   "source": [
    "### $y'=f(x)\\cdot (\\ln f(x))' = x^x\\cdot(\\ln(x^x))' = x^x\\cdot(x\\cdot\\ln(x))' = x^x\\cdot(x\\cdot\\frac{1}{x} + 1\\cdot\\ln(x)) = x^x\\cdot(1 + \\ln(x))$"
   ]
  },
  {
   "cell_type": "markdown",
   "id": "3e81ff7e",
   "metadata": {},
   "source": [
    "__5.__ Найти производную функции с помощью логарифмирования:\n",
    "\n",
    "### $$y=\\frac{(2-x^2)^3\\cdot(x-1)^2}{(2x^3-3x)\\cdot e^x}$$"
   ]
  },
  {
   "cell_type": "markdown",
   "id": "4b5a91e9",
   "metadata": {},
   "source": [
    "### $y'=f(x)\\cdot (\\ln f(x))' = \\frac{(2-x^2)^3\\cdot(x-1)^2}{(2x^3-3x)\\cdot e^x}\\cdot\\bigl(\\frac{3(2-x^2)'}{2-x^2}+\\frac{2(x-1)'}{x-1}-\\frac{1(2x^3-3x)'}{2x^3-3x}-\\frac{(e^x)'}{e^x}\\bigr) = $\n",
    "### $= \\frac{(2-x^2)^3\\cdot(x-1)^2}{(2x^3-3x)\\cdot e^x}\\cdot\\bigl(\\frac{-6x}{2-x^2}+\\frac{2}{x-1}-\\frac{6x^2-3}{2x^3-3x}-1\\bigr)$"
   ]
  },
  {
   "cell_type": "markdown",
   "id": "30d12032",
   "metadata": {},
   "source": [
    "__6*.__ Вывести табличное значение производной для функции\n",
    "\n",
    "### $$\\mbox{arctg}(x)$$"
   ]
  },
  {
   "cell_type": "markdown",
   "id": "75f2adb6",
   "metadata": {},
   "source": [
    "### $y = \\mbox{arctg}(x) \\rightarrow x = \\mbox{tg}(y)$"
   ]
  },
  {
   "cell_type": "markdown",
   "id": "cca6e098",
   "metadata": {},
   "source": [
    "### $y'_x = \\frac{1}{x'_y}$"
   ]
  },
  {
   "cell_type": "markdown",
   "id": "df7d6600",
   "metadata": {},
   "source": [
    "### $(\\mbox{arctg}(x))' = \\frac{1}{(tg(y))'} = \\frac{1}{\\frac{1}{\\cos^2{y}}} = \\frac{1}{\\frac{\\cos^2{y} + \\sin^2{y}}{\\cos^2{y}}} = \\frac{1}{1 + \\frac{\\sin^2{y}}{\\cos^2{y}}} = \\frac{1}{1 + \\mbox{tg}^2{y}} = \\frac{1}{1 + x^2}$"
   ]
  },
  {
   "cell_type": "markdown",
   "id": "1c4b725a",
   "metadata": {},
   "source": [
    "__7.__ Найти длину $𝑥$ и ширину $𝑦$ прямоугольника при заданном периметре $𝑃=144$ cм, при которых данный прямоугольник имеет наибольшую площадь $𝑆$."
   ]
  },
  {
   "cell_type": "markdown",
   "id": "42be8ad0",
   "metadata": {},
   "source": [
    "### $P = 2x + 2y$\n",
    "исследуемая функция: \n",
    "### $S = x\\cdot y = (\\frac{P}{2}-y)\\cdot y = \\frac{P}{2}\\cdot y-y^2$\n",
    "### $S' = \\frac{P}{2} - 2y$\n",
    "### $\\frac{P}{2} - 2y = 0 \\leftrightarrow \\frac{P}{2} = 2y\\leftrightarrow y = \\frac{P}{4}$ \n",
    "\\- критическая точка; проверим знаки производной в ее окрестности\n",
    "### $S'(\\frac{P}{2}) = \\frac{P}{2} - 2(\\frac{P}{2}) = -\\frac{P}{2} < 0$\n",
    "### $S'(\\frac{P}{8}) = \\frac{P}{2} - 2(\\frac{P}{8}) = \\frac{P}{4} > 0$\n",
    "справа от точки производная отрицательна, а слева положительна - следовательно, это точка максимума функции, при этом:\n",
    "### $x = \\frac{P}{2}-y = \\frac{P}{2}-\\frac{P}{4} = \\frac{P}{4} = 36 см$\n",
    "т.е. площадь максимальна у квадрата со сторонами 36 см"
   ]
  },
  {
   "cell_type": "markdown",
   "id": "4df2ef02",
   "metadata": {},
   "source": [
    "__8*.__ Завод $A$ отстоит от железной дороги, идущей с юга на север и проходящей через $B$, считая по кратчайшему расстоянию на $a$ км. Под каким углом $\\alpha$ к железной дороге следует ппостроить подъезной  путь от завода, чтобы транспортировка грузов из $A$ в $B$ была наиболее экономичной, если стоимость провоза тонны груза на расстоянии $1$ км составляет: по подъезному пути $p$ рублей, по железной дороге $q$ рублей $(p>q)$ и город $B$ расположен на $b$ км севернее завода $A$."
   ]
  },
  {
   "cell_type": "markdown",
   "id": "14a809ef",
   "metadata": {},
   "source": [
    "пусть мы везем груз $x$ км по подъездной дороге и $y$ км по железной дороге, при этом $P$ - цена перевозки\n",
    "### $P = px + qy$\n",
    "### $x = \\frac{a}{\\sin\\alpha}$\n",
    "### $y = b - \\cos\\alpha\\cdot{x} = b - a\\cdot\\mbox{ctg}\\alpha$\n",
    "### $P = \\frac{p\\cdot a}{\\sin\\alpha} + q\\cdot b - q\\cdot a\\cdot\\mbox{ctg}\\alpha$\n",
    "### $P' = (\\frac{p\\cdot a}{\\sin\\alpha} + q\\cdot b - q\\cdot a\\cdot\\mbox{ctg}\\alpha)' = -p\\cdot a\\cdot\\frac{1}{sin^2\\alpha}\\cdot\\cos\\alpha + q\\cdot a\\cdot\\frac{1}{sin^2\\alpha} = \\frac{a\\cdot(q-p\\cdot\\cos\\alpha)}{sin^2\\alpha}$\n",
    "найдем критическую точку:\n",
    "### $ \\frac{a\\cdot(q-p\\cdot\\cos\\alpha)}{sin^2\\alpha} = 0 \\leftrightarrow q - p\\cdot\\cos\\alpha = 0 \\leftrightarrow \\cos\\alpha = \\frac{q}{p} \\leftrightarrow \\alpha = arccos(\\frac{q}{p})$"
   ]
  },
  {
   "cell_type": "code",
   "execution_count": 44,
   "id": "ccf66fea",
   "metadata": {
    "scrolled": false
   },
   "outputs": [
    {
     "data": {
      "image/png": "[encoded data removed]",
      "text/plain": [
       "<Figure size 432x432 with 1 Axes>"
      ]
     },
     "metadata": {
      "needs_background": "light"
     },
     "output_type": "display_data"
    }
   ],
   "source": [
    "from matplotlib import pylab as plt\n",
    "import numpy as np\n",
    "%matplotlib inline\n",
    "\n",
    "plt.figure(figsize=(6,6))\n",
    "\n",
    "a = 10\n",
    "b = 30\n",
    "p = 6\n",
    "q = 3\n",
    "\n",
    "y = p*a/np.sin(x)+q*(b-np.cos(x)*a/np.sin(x))\n",
    "deg = np.linspace(20, 90, 90)\n",
    "x = np.radians(deg)\n",
    "\n",
    "plt.plot(x, y, c='r')\n",
    "\n",
    "plt.axvline(x = np.arccos(q/p))\n",
    "\n",
    "plt.show()"
   ]
  }
 ],
 "metadata": {
  "kernelspec": {
   "display_name": "Python 3",
   "language": "python",
   "name": "python3"
  },
  "language_info": {
   "codemirror_mode": {
    "name": "ipython",
    "version": 3
   },
   "file_extension": ".py",
   "mimetype": "text/x-python",
   "name": "python",
   "nbconvert_exporter": "python",
   "pygments_lexer": "ipython3",
   "version": "3.8.8"
  }
 },
 "nbformat": 4,
 "nbformat_minor": 5
}
