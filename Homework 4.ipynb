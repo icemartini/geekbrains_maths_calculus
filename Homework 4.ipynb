{
 "cells": [
  {
   "cell_type": "markdown",
   "id": "f7ad4f77",
   "metadata": {},
   "source": [
    "# Урок 4\n",
    "# Функция. Предел функции"
   ]
  },
  {
   "cell_type": "code",
   "execution_count": 13,
   "id": "d7834b94",
   "metadata": {},
   "outputs": [],
   "source": [
    "from sympy import *\n",
    "import warnings\n",
    "warnings.filterwarnings('ignore')\n",
    "x = Symbol('x')"
   ]
  },
  {
   "cell_type": "markdown",
   "id": "fe26fd92",
   "metadata": {},
   "source": [
    "__1.__ Найти предел функции:"
   ]
  },
  {
   "cell_type": "markdown",
   "id": "2d8efcbd",
   "metadata": {},
   "source": [
    "### $а) \\lim_{x\\to 6} \\frac{x^2-36}{x^2-x-30} = \\lim_{x\\to 6} \\frac{(x-6)(x+6)}{(x-6)(x+5)} = \\lim_{x\\to 6} \\frac{x+6}{x+5} = \\frac{12}{11}$"
   ]
  },
  {
   "cell_type": "markdown",
   "id": "4c33a81a",
   "metadata": {},
   "source": [
    "### $б) \\lim_{x\\to 7} \\frac{x^2-49}{x^2-13x+42} = \\lim_{x\\to 7} \\frac{(x-7)(x+7)}{(x-7)(x-6)} = \\lim_{x\\to 7} \\frac{x+7}{x-6} = 14$"
   ]
  },
  {
   "cell_type": "markdown",
   "id": "f3f24077",
   "metadata": {},
   "source": [
    "### $в^*) \\lim_{x\\to 7} \\frac{\\sqrt{x+2}-\\sqrt[3]{x+20}}{\\sqrt[4]{x+9}-2} =$\n",
    "числитель представим как $a^{6}-b^{6\\ }=\\left(a-b\\right)\\left(a^{2}+ab+b^{2}\\right)\\left(a^{3}+b^{3}\\right)$, т.е. домножим и поделим на $\\left(a^{2}+ab+b^{2}\\right)\\left(a^{3}+b^{3}\\right)$\n",
    "\n",
    "знаменатель представим как $a^{4\\ }-\\ b^{4}\\ =\\left(a-b\\right)\\left(a+b\\right)\\left(a^{2}+b^{2}\\right)$, т.е. домножим и поделим на $\\left(a+b\\right)\\left(a^{2}+b^{2}\\right)$\n",
    "### $= \\lim_{x\\to 7} \\frac{(\\sqrt[4]{x+9}+2)(\\sqrt{x+9}+4)}{(x+9-16)}\\cdot\\frac{(x+2)^3-(x+20)^2}{((x+2)+\\sqrt{x+2}\\sqrt[3]{x+20}+\\sqrt[3]{(x+20)^2})(\\sqrt{(x+2)^3}+(x+20))} =$\n",
    "### $= \\lim_{x\\to 7} \\frac{x^3+5x^2-28x-392}{(x-7)}\\cdot\\frac{(\\sqrt[4]{x+9}+2)(\\sqrt{x+9}+4)}{((x+2)+\\sqrt{x+2}\\sqrt[3]{x+20}+\\sqrt[3]{(x+20)^2})(\\sqrt{(x+2)^3}+(x+20))} =$\n",
    "### $= \\lim_{x\\to 7} \\frac{(x-7)(x^2+12x+56)}{(x-7)}\\cdot\\frac{(\\sqrt[4]{x+9}+2)(\\sqrt{x+9}+4)}{((x+2)+\\sqrt{x+2}\\sqrt[3]{x+20}+\\sqrt[3]{(x+20)^2})(\\sqrt{(x+2)^3}+(x+20))} =$\n",
    "### $= \\lim_{x\\to 7} \\frac{(x^2+12x+56)(\\sqrt[4]{x+9}+2)(\\sqrt{x+9}+4)}{((x+2)+\\sqrt{x+2}\\sqrt[3]{x+20}+\\sqrt[3]{(x+20)^2})(\\sqrt{(x+2)^3}+(x+20))} = \\frac{(7^2+12\\cdot7+56)(\\sqrt[4]{16}+2)(\\sqrt{16}+4)}{(9+\\sqrt{9}\\sqrt[3]{27}+\\sqrt[3]{27^2})(\\sqrt{9^3}+27)} = \\frac{189*4*8}{27*54} = \\frac{112}{27}$"
   ]
  },
  {
   "cell_type": "code",
   "execution_count": 15,
   "id": "0642ad87",
   "metadata": {},
   "outputs": [
    {
     "data": {
      "text/latex": [
       "$\\displaystyle \\frac{\\sqrt{x + 2} - \\sqrt[3]{x + 20}}{\\sqrt[4]{x + 9} - 2}$"
      ],
      "text/plain": [
       "(sqrt(x + 2) - (x + 20)**(1/3))/((x + 9)**(1/4) - 2)"
      ]
     },
     "execution_count": 15,
     "metadata": {},
     "output_type": "execute_result"
    }
   ],
   "source": [
    "a = (sqrt(x + 2) - cbrt(x + 20)) / (real_root((x + 9), 4) - 2)\n",
    "a"
   ]
  },
  {
   "cell_type": "code",
   "execution_count": 16,
   "id": "cfc230f0",
   "metadata": {
    "scrolled": false
   },
   "outputs": [
    {
     "data": {
      "text/latex": [
       "$\\displaystyle \\frac{112}{27}$"
      ],
      "text/plain": [
       "112/27"
      ]
     },
     "execution_count": 16,
     "metadata": {},
     "output_type": "execute_result"
    }
   ],
   "source": [
    "limit(a, x, 7)"
   ]
  },
  {
   "cell_type": "markdown",
   "id": "ad6d1aea",
   "metadata": {},
   "source": [
    "### $г) \\lim_{x\\to 0} \\frac{3x\\,\\mbox{tg}\\,4x}{1-\\cos4x} = \\lim_{x\\to 0} \\frac{3x\\cdot4x}{\\frac{(4x)^2}{2}} = \\lim_{x\\to 0} \\frac{12x^2}{8x^2} = \\frac{3}{2}$"
   ]
  },
  {
   "cell_type": "markdown",
   "id": "a78ee31f",
   "metadata": {},
   "source": [
    "### $д^{**}) \\lim_{x\\to 0} \\frac{\\sqrt2x^2\\sin4x}{(1-\\cos2x)^{\\frac{3}{2}}} = \\lim_{x\\to 0} \\frac{\\sqrt2x^2\\sin4x}{\\sqrt{(2x^2)^3}} = \\lim_{x\\to 0} \\frac{\\sqrt2x^2\\sin4x}{\\sqrt{2}x^2\\cdot 2x} = \\lim_{x\\to 0} \\frac{\\sin4x}{2x} = \\lim_{x\\to 0} \\frac{2\\sin4x}{4x} = 2$"
   ]
  },
  {
   "cell_type": "markdown",
   "id": "b6e52df6",
   "metadata": {},
   "source": [
    "### $е) \\lim_{x\\to \\infty} \\Bigr(\\frac{4x}{4x+3}\\Bigl)^\\frac{5x^2}{7x-1} = \\lim_{x\\to \\infty} e^{\\Bigr(\\frac{4x}{4x+3}-1\\Bigl)\\frac{5x^2}{7x-1}} = \\lim_{x\\to \\infty} e^{\\frac{-3}{4x+3}\\cdot\\frac{5x^2}{7x-1}} = e^\\frac{-3\\cdot5}{4\\cdot7} = e^{-\\frac{15}{28}}$"
   ]
  },
  {
   "cell_type": "markdown",
   "id": "359c820e",
   "metadata": {},
   "source": [
    "### $ж^*) \\lim_{x\\to +0} \\frac{5^x-1}{x} = \\lim_{x\\to +0} \\frac{e^{ln(5)^x}-1}{x} = \\lim_{x\\to +0} \\frac{ln(5)\\cdot (e^{ln(5)\\cdot x}-1)}{ln(5)\\cdot x} = ln(5)$"
   ]
  },
  {
   "cell_type": "code",
   "execution_count": 17,
   "id": "a0097185",
   "metadata": {},
   "outputs": [
    {
     "data": {
      "text/latex": [
       "$\\displaystyle \\frac{5^{x} - 1}{x}$"
      ],
      "text/plain": [
       "(5**x - 1)/x"
      ]
     },
     "execution_count": 17,
     "metadata": {},
     "output_type": "execute_result"
    }
   ],
   "source": [
    "a = (5**x - 1) / x\n",
    "a"
   ]
  },
  {
   "cell_type": "code",
   "execution_count": 18,
   "id": "4dc09e63",
   "metadata": {},
   "outputs": [
    {
     "data": {
      "text/latex": [
       "$\\displaystyle \\log{\\left(5 \\right)}$"
      ],
      "text/plain": [
       "log(5)"
      ]
     },
     "execution_count": 18,
     "metadata": {},
     "output_type": "execute_result"
    }
   ],
   "source": [
    "limit(a, x, 0)"
   ]
  },
  {
   "cell_type": "markdown",
   "id": "b09a1d47",
   "metadata": {},
   "source": [
    "### $з^*) \\lim_{x\\to +\\infty} \\frac{\\ln(x^2-x+1)}{\\ln(x^{10}+x+1)} = \\lim_{x\\to +\\infty} \\frac{\\ln((1-\\frac{1}{x}+\\frac{1}{x^2})\\cdot x^2)}{\\ln((1+\\frac{1}{x^9}+\\frac{1}{x^{10}})\\cdot x^{10})} = \\lim_{x\\to +\\infty} \\frac{\\ln(1\\cdot x^2)}{\\ln(1\\cdot x^{10})} = \\lim_{x\\to +\\infty} \\frac{2\\ln(x)}{10\\ln(x)} = \\frac{1}{5}$"
   ]
  },
  {
   "cell_type": "code",
   "execution_count": 19,
   "id": "9ce23aff",
   "metadata": {},
   "outputs": [
    {
     "data": {
      "text/latex": [
       "$\\displaystyle \\frac{\\log{\\left(x^{2} - x + 1 \\right)}}{\\log{\\left(x^{10} + x + 1 \\right)}}$"
      ],
      "text/plain": [
       "log(x**2 - x + 1)/log(x**10 + x + 1)"
      ]
     },
     "execution_count": 19,
     "metadata": {},
     "output_type": "execute_result"
    }
   ],
   "source": [
    "a = ln(x**2 - x + 1) / ln(x**10 + x + 1)\n",
    "a"
   ]
  },
  {
   "cell_type": "code",
   "execution_count": 20,
   "id": "0743e9a6",
   "metadata": {},
   "outputs": [
    {
     "data": {
      "text/latex": [
       "$\\displaystyle \\frac{1}{5}$"
      ],
      "text/plain": [
       "1/5"
      ]
     },
     "execution_count": 20,
     "metadata": {},
     "output_type": "execute_result"
    }
   ],
   "source": [
    "limit(a, x, oo)"
   ]
  },
  {
   "cell_type": "markdown",
   "id": "ef7d490b",
   "metadata": {},
   "source": [
    "__2*.__ На языке Python предложить алгоритм вычисляющий численно предел последовательности\n",
    "\n",
    "### $$\\lim_{n\\to +\\infty} \\frac{n}{\\sqrt[n]{n!}}$$"
   ]
  },
  {
   "cell_type": "markdown",
   "id": "509b5f2e",
   "metadata": {},
   "source": [
    "Чтобы избежать переполнения float, представим факториал в виде произведения корней n-ной степени:"
   ]
  },
  {
   "cell_type": "markdown",
   "id": "5611c63d",
   "metadata": {},
   "source": [
    "### $ \\lim_{n\\to +\\infty} \\frac{n}{\\sqrt[n]{n!}} = \\lim_{n\\to +\\infty} \\frac{n}{\\sqrt[n]{1\\cdot2\\cdot .. \\cdot n}} = \\lim_{n\\to +\\infty} \\frac{n}{\\sqrt[n]{1}\\cdot\\sqrt[n]{2}\\cdot..\\cdot\\sqrt[n]{n}}$"
   ]
  },
  {
   "cell_type": "code",
   "execution_count": 8,
   "id": "24decde5",
   "metadata": {},
   "outputs": [
    {
     "name": "stdout",
     "output_type": "stream",
     "text": [
      "предел: 2.71698842372424\n",
      "шагов: 11778\n",
      "Wall time: 30.6 s\n"
     ]
    }
   ],
   "source": [
    "%%time\n",
    "from math import factorial\n",
    "\n",
    "def limit():\n",
    "    n = 2\n",
    "    eps = 10**(-7)\n",
    "    lim = 1\n",
    "    dif = 1\n",
    "    steps_count = 0\n",
    "    while dif > eps:\n",
    "        steps_count += 1\n",
    "        denom = 1\n",
    "        for i in range(1, n+1):    \n",
    "            denom *= (pow(i, 1/n))\n",
    "        new_lim = n / denom\n",
    "        dif = new_lim - lim\n",
    "        lim = new_lim\n",
    "        n += 1\n",
    "    print(f'предел: {lim}\\nшагов: {steps_count}')\n",
    "\n",
    "limit()"
   ]
  },
  {
   "cell_type": "code",
   "execution_count": 21,
   "id": "2b92e2a2",
   "metadata": {},
   "outputs": [
    {
     "data": {
      "text/latex": [
       "$\\displaystyle x x!^{- \\frac{1}{x}}$"
      ],
      "text/plain": [
       "x*factorial(x)**(-1/x)"
      ]
     },
     "execution_count": 21,
     "metadata": {},
     "output_type": "execute_result"
    }
   ],
   "source": [
    "a = x / (factorial(x)**(1/x))\n",
    "a"
   ]
  },
  {
   "cell_type": "code",
   "execution_count": 22,
   "id": "a168ba22",
   "metadata": {},
   "outputs": [
    {
     "data": {
      "text/latex": [
       "$\\displaystyle e$"
      ],
      "text/plain": [
       "E"
      ]
     },
     "execution_count": 22,
     "metadata": {},
     "output_type": "execute_result"
    }
   ],
   "source": [
    "limit(a, x, oo)"
   ]
  }
 ],
 "metadata": {
  "kernelspec": {
   "display_name": "Python 3",
   "language": "python",
   "name": "python3"
  },
  "language_info": {
   "codemirror_mode": {
    "name": "ipython",
    "version": 3
   },
   "file_extension": ".py",
   "mimetype": "text/x-python",
   "name": "python",
   "nbconvert_exporter": "python",
   "pygments_lexer": "ipython3",
   "version": "3.8.8"
  }
 },
 "nbformat": 4,
 "nbformat_minor": 5
}
