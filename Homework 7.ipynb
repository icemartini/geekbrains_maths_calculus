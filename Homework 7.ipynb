{
 "cells": [
  {
   "cell_type": "markdown",
   "id": "5283e3d5",
   "metadata": {},
   "source": [
    "# Урок 7\n",
    "# Производная функции нескольких переменных. Часть 1"
   ]
  },
  {
   "cell_type": "markdown",
   "id": "c093c38d",
   "metadata": {},
   "source": [
    "__1.__ Найти частные производные первого и второго порядка. Убедиться в равенстве смешанных производных.\n",
    "\n",
    "### $$U=x^3+3xy^2+z^2-39x-36y+2z+26$$"
   ]
  },
  {
   "cell_type": "markdown",
   "id": "1279fef9",
   "metadata": {},
   "source": [
    "### $U'_{x}=3x^2+3y^2-39$\n",
    "### $U'_{y}=6xy-36$\n",
    "### $U'_{z}=2z+2$\n",
    "\n",
    "### $U''_{xx}=6x$\n",
    "### $U''_{yy}=6x$\n",
    "### $U''_{zz}=2$\n",
    "\n",
    "### $U''_{xy}=U''_{yx}=6y$\n",
    "### $U''_{xz}=U''_{zx}=0$\n",
    "### $U''_{yz}=U''_{zy}=0$"
   ]
  },
  {
   "cell_type": "markdown",
   "id": "1acd29f9",
   "metadata": {},
   "source": [
    "__2.__ Найти частные производные первого и второго порядка. Убедиться в равенстве смешанных производных.\n",
    "\n",
    "### $$U=\\frac{256}{x}+\\frac{x^2}{y}+\\frac{y^2}{z}+z^2$$"
   ]
  },
  {
   "cell_type": "markdown",
   "id": "11f0f242",
   "metadata": {},
   "source": [
    "### $U = 256\\cdot x^{-1}+x^2\\cdot y^{-1} + y^2\\cdot z^{-1} + z^2$\n",
    "\n",
    "### $U'_{x}=-256\\cdot x^{-2} + 2x\\cdot y^{-1}$\n",
    "### $U'_{y}=-x^2\\cdot y^{-2} + 2y\\cdot z^{-1}$\n",
    "### $U'_{z}=-y^2\\cdot z^{-2} + 2z$\n",
    "\n",
    "### $U''_{xx}=512x^{-3} + 2y^{-1}$\n",
    "### $U''_{yy}=2x^2\\cdot y^{-3} + 2z^{-1}$\n",
    "### $U''_{zz}=2y^2\\cdot z^{-3} + 2$\n",
    "\n",
    "### $U''_{xy}=U''_{yx}=-2x\\cdot y^{-2}$\n",
    "### $U''_{xz}=U''_{zx}=0$\n",
    "### $U''_{yz}=U''_{zy}=-2y\\cdot z^{-2}$"
   ]
  },
  {
   "cell_type": "markdown",
   "id": "f3c6ea2b",
   "metadata": {},
   "source": [
    "__3.__ Найти производную функции $U=x^2+y^2+z^2$ по направлению вектора $\\overrightarrow{c}(-9,8,-12)$ в точке $M(8,-12,9)$"
   ]
  },
  {
   "cell_type": "markdown",
   "id": "b95b944a",
   "metadata": {},
   "source": [
    "### $U'_{\\overrightarrow{a}}=(\\overrightarrow{a}_{0}\\cdot \\mbox{grad}U) $\n",
    "### $\\mbox{grad} U=(U'_{x},U'_{y},U'_{z})$\n",
    "### $\\mbox{grad} U=(2x, 2y, 2z)$\n",
    "длина направляющего вектора:\n",
    "### $|\\overrightarrow{c}| = \\sqrt{(-9)^2+8^2+(-12)^2} = 17$\n",
    "найдем единичный вектор:\n",
    "### $\\overrightarrow{c_{0}}=\\frac{\\overrightarrow{c}}{|\\overrightarrow{c}|}=\\Bigr(\\frac{-9}{17},\\frac{8}{17},\\frac{-12}{17}\\Bigl)$\n",
    "градиент в точке $M(8,-12,9)$ равен:\n",
    "### $\\mbox{grad} U=(16,-24,18)$\n",
    "### $U'_{\\overrightarrow{с}}=\\frac{-9}{17}\\cdot16+\\frac{8}{17}\\cdot(-24)+\\frac{-12}{17}\\cdot(18)=-\\frac{552}{17}$"
   ]
  },
  {
   "cell_type": "markdown",
   "id": "3a9e6beb",
   "metadata": {},
   "source": [
    "__4.__ Найти производную функции $U=e^{x^2+y^2+z^2}$ по направлению вектора $\\overrightarrow{c}(4,-13,-16)$ в точке $L(-16,4,-13)$"
   ]
  },
  {
   "cell_type": "markdown",
   "id": "c0fcb312",
   "metadata": {},
   "source": [
    "### $U'_{\\overrightarrow{a}}=(\\overrightarrow{a}_{0}\\cdot \\mbox{grad}U) $\n",
    "### $\\mbox{grad} U=(U'_{x},U'_{y},U'_{z})$\n",
    "### $\\mbox{grad} U=(e^{x^2+y^2+z^2}\\cdot2x, e^{x^2+y^2+z^2}\\cdot2y, e^{x^2+y^2+z^2}\\cdot2z)$\n",
    "длина направляющего вектора:\n",
    "### $|\\overrightarrow{c}| = \\sqrt{4^2+(-13)^2+(-16)^2} = 21$\n",
    "найдем единичный вектор:\n",
    "### $\\overrightarrow{c_{0}}=\\frac{\\overrightarrow{c}}{|\\overrightarrow{c}|}=\\Bigr(\\frac{4}{21},\\frac{-13}{21},\\frac{-16}{21}\\Bigl)$\n",
    "градиент в точке $L(-16,4,-13)$ равен:\n",
    "### $\\mbox{grad} U=(-32e^{441},8e^{441},-26e^{441})$\n",
    "### $U'_{\\overrightarrow{с}}=\\frac{4}{21}\\cdot(-32e^{441})+\\frac{-13}{21}\\cdot(8e^{441})+\\frac{-16}{21}\\cdot(-26e^{441})=\\frac{184}{21}\\cdot e^{441}$"
   ]
  },
  {
   "cell_type": "markdown",
   "id": "76f64b97",
   "metadata": {},
   "source": [
    "__5*.__ Найти производную функции $U=\\log_{21}(x^2+y^2+z^2)$ в точке $F(-19,8,-4)$ по самому быстрому направлению."
   ]
  },
  {
   "cell_type": "markdown",
   "id": "b53cebbd",
   "metadata": {},
   "source": [
    "### $U'_{\\overrightarrow{a}}=(\\overrightarrow{a}_{0}\\cdot \\mbox{grad}U) $\n",
    "$U=\\log_{21}(x^2+y^2+z^2)$\n",
    "### $\\mbox{grad} U=(U'_{x},U'_{y},U'_{z})$\n",
    "### $\\mbox{grad} U=\\bigl(\\frac{2x}{(x^2+y^2+z^2)\\cdot \\ln{21}}, \\frac{2y}{(x^2+y^2+z^2)\\cdot \\ln{21}}, \\frac{2z}{(x^2+y^2+z^2)\\cdot \\ln{21}}\\bigr)$\n",
    "градиент в точке $F(-19,8,-4)$ равен:\n",
    "### $\\mbox{grad} U=(\\frac{-38}{441\\cdot \\ln21},\\frac{16}{441\\cdot \\ln21},\\frac{-8}{441\\cdot \\ln21})$\n",
    "### $U'_{\\mbox{grad}U}=(\\mbox{grad}U_{0}\\cdot \\mbox{grad}U)$\n",
    "Найдем единичный вектор градиента:\n",
    "### $|\\mbox{grad}U|=\\sqrt{(\\frac{-38}{441\\cdot \\ln21})^2+(\\frac{16}{441\\cdot \\ln21})^2+(\\frac{-8}{441\\cdot \\ln21})^2}=\\sqrt{\\frac{1764}{(441\\cdot\\ln21)^2}} = \\frac{42}{441\\cdot\\ln21} = \\frac{2}{21\\cdot\\ln21}$\n",
    "### $\\mbox{grad}U_{0}=\\frac{\\mbox{grad}U}{|\\mbox{grad}U|}=\\Bigr(\\frac{-19}{21},\\frac{8}{21},\\frac{-4}{21}\\Bigl)$\n",
    "Тогда производная по направлению градиента равна:\n",
    "### $U'_{\\mbox{grad}U}=\\frac{-19}{21}\\cdot\\frac{-38}{441\\cdot \\ln21}+\\frac{8}{21}\\cdot\\frac{16}{441\\cdot \\ln21}+\\frac{-4}{21}\\cdot\\frac{-8}{441\\cdot \\ln21}=\\frac{882}{21\\cdot441\\cdot\\ln21}=\\frac{2}{21\\cdot\\ln21}$"
   ]
  },
  {
   "cell_type": "markdown",
   "id": "83b310e1",
   "metadata": {},
   "source": [
    "__6.__ Исследовать на экстремум функцию:\n",
    "\n",
    "### $$U=x^2y+\\frac{1}{3}y^3+2x^2+3y^2-1$$"
   ]
  },
  {
   "cell_type": "markdown",
   "id": "27625529",
   "metadata": {},
   "source": [
    "Найдем частные производные, приравняем их к нулю и найдем стационарные точки:\n",
    "### $\\begin{cases}\n",
    "   U'_{x}=2y\\cdot x+4x=0, \\\\\n",
    "   U'_{y}=x^2+y^2+6y=0 \n",
    " \\end{cases}$\n",
    "Получаем 4 стационарных точки: $(0,0), (0,-6), (2\\sqrt{2},-2), (-2\\sqrt{2},-2)$\n",
    "\n",
    "Теперь найдем вторые производные и составим матрицу Гёссе\n",
    "###  $U''_{xx}=2y+4$ \n",
    "### $U''_{xy}=U''_{yx}=2x$ \n",
    "### $U''_{yy}=2y+6$\n",
    "###  $\\begin{pmatrix}\n",
    "2y+4 & 2x\\\\ \n",
    "2x & 2y+6\\\\\n",
    "\\end{pmatrix}$\n",
    "теперь можно вычислить главные миноры \n",
    "### $\\Delta_{1}=U''_{xx}=2y+4$\n",
    "### $\\Delta_{2}=\\begin{vmatrix}\n",
    "U''_{xx} & U''_{xy}\\\\ \n",
    "U''_{yx} & U''_{yy}\\\\\n",
    "\\end{vmatrix}=U''_{xx}\\cdot U''_{yy}-(U''_{xy})^2=(2y+4) \\cdot (2y+6) - (2x)^2=4(y+2)(y+3)-4x^2$\n",
    "\n",
    "Осталось проверить знаки миноров для каждой точки. \n",
    "\n",
    "Для точки $(0,0)$:\n",
    "### $\\Delta_{1}=4>0$\n",
    "### $\\Delta_{2}=24>0$\n",
    "Т.е. __точка $(0,0)$ является точкой минимума.__\n",
    "\n",
    "Для точки $(0,-6)$:\n",
    "### $\\Delta_{1}=-8<0$\n",
    "### $\\Delta_{2}=48>0$\n",
    "Т.е. __точка $(0,-6)$ является точкой максимума.__\n",
    "\n",
    "Для точек $(2\\sqrt{2},-2)$ и $(-2\\sqrt{2},-2)$:\n",
    "### $\\Delta_{1}=0$\n",
    "\n",
    "Пересоберем матрицу в виде \n",
    "### $\\begin{pmatrix}\n",
    "2y+6 & 2x\\\\ \n",
    "2x & 2y+4\\\\\n",
    "\\end{pmatrix}$\n",
    "Тогда для точки $(2\\sqrt{2},-2)$:\n",
    "### $\\Delta_{1}=2>0$\n",
    "### $\\Delta_{2}=-32<0$\n",
    "Т.е. __точка $(2\\sqrt{2},-2)$ является седловой точкой.__\n",
    "\n",
    "Для точки $(-2\\sqrt{2},-2)$:\n",
    "### $\\Delta_{1}=2>0$\n",
    "### $\\Delta_{2}=-32<0$\n",
    "Т.е. __точка $(-2\\sqrt{2},-2)$ является седловой точкой.__"
   ]
  },
  {
   "cell_type": "markdown",
   "id": "c3369524",
   "metadata": {},
   "source": [
    "__7*.__ Исследовать на экстремум функцию:\n",
    "\n",
    "### $$U=e^{-\\frac{x}{2}}\\cdot(x^2+y^2)$$"
   ]
  },
  {
   "cell_type": "markdown",
   "id": "40298800",
   "metadata": {},
   "source": [
    "Найдем частные производные, приравняем их к нулю и найдем стационарные точки:\n",
    "### $\\begin{cases}\n",
    "   U'_x = -\\frac{1}{2}e^{-\\frac{x}{2}}\\cdot(x^2+y^2) + e^{-\\frac{x}{2}}\\cdot2x = 0, \\\\\n",
    "   U'_y = e^{-\\frac{x}{2}}\\cdot2y = 0\n",
    " \\end{cases}$\n",
    "из второго уравнения получаем $y = 0$, при подстановке в первое получаем:\n",
    "### $e^{-\\frac{x}{2}}\\cdot(\\frac{-x^2+4x}{2}) = 0 \\leftrightarrow x(4-x) = 0 \\leftrightarrow \\begin{cases}\n",
    "   x = 0 \\\\ \n",
    "   x = 4\n",
    "\\end{cases}$\n",
    "Получаем 2 стационарных точки: $(0,0), (4,0)$\n",
    "\n",
    "Теперь найдем вторые производные и главные миноры\n",
    "###  $U''_{xx}=\\frac{e^{-\\frac{x}{2}}\\cdot(x^2+y^2-8x+8)}{4} = \\Delta_{1}$ \n",
    "### $U''_{xy}=U''_{yx}=-y\\cdot e^{-\\frac{x}{2}}$ \n",
    "### $U''_{yy}=2e^{-\\frac{x}{2}}$\n",
    "### $\\Delta_{2}=\\begin{vmatrix}\n",
    "U''_{xx} & U''_{xy}\\\\ \n",
    "U''_{yx} & U''_{yy}\\\\\n",
    "\\end{vmatrix}=U''_{xx}\\cdot U''_{yy}-(U''_{xy})^2=\\frac{1}{2}\\cdot e^{-x}\\cdot(x^2+y^2-8x+8)-y^2\\cdot e^{-x}=\\frac{1}{2}\\cdot e^{-x}(x^2-8x+8-y^2)$\n",
    "\n",
    "Осталось проверить знаки миноров для каждой точки. \n",
    "\n",
    "Для точки $(0,0)$:\n",
    "### $\\Delta_{1}=2>0$\n",
    "### $\\Delta_{2}=4>0$\n",
    "Т.е. __точка $(0,0)$ является точкой минимума.__\n",
    "\n",
    "Для точки $(4,0)$:\n",
    "### $\\Delta_{1}=-\\frac{2}{e^2}<0$\n",
    "### $\\Delta_{2}=-\\frac{4}{e^4}<0$\n",
    "Т.е. __точка $(4,0)$ является седловой точкой.__"
   ]
  },
  {
   "cell_type": "markdown",
   "id": "9914f526",
   "metadata": {},
   "source": [
    "__8**.__ С помощью метода наименьших квадратов (МНК) подобрать значения параметров $a$ и $b$ для сигмоидальной функции $$y=\\frac{1}{1+e^{-(ax+b)}}$$ \n",
    "\n",
    "по заданному распределению. Построить график."
   ]
  },
  {
   "cell_type": "markdown",
   "id": "4997e2bf",
   "metadata": {},
   "source": [
    "### $y=\\frac{1}{1+e^{-(ax+b)}} = \\frac{1}{1+\\frac{1}{e^{ax+b}}} = \\frac{e^{ax+b}}{e^{ax+b}+1}$\n",
    "### $y_{i} - \\frac{e^{ax_{i}+b}}{e^{ax_{i}+b}+1} = \\varepsilon_{i}$\n",
    "### $U(a,b)=\\varepsilon^2_{1}+\\varepsilon^2_{2}+\\varepsilon^2_{3}+\\varepsilon^2_{4}+...+\\varepsilon^2_{n}$\n",
    "### $\\begin{cases}\n",
    "   U'_{a}=\\sum\\limits_{i=1}^n(-2(y_{i}-\\frac{e^{ax_{i}+b}}{e^{ax_{i}+b}+1})\\cdot\\frac{x_{i}\\cdot e^{ax_{i}+b}}{(e^{ax_{i}+b}+1)^2})=0, \\\\\n",
    "   U'_{b}=\\sum\\limits_{i=1}^n(-2(y_{i}-\\frac{e^{ax_{i}+b}}{e^{ax_{i}+b}+1})\\cdot\\frac{e^{ax_{i}+b}}{(e^{ax_{i}+b}+1)^2})=0 \n",
    " \\end{cases}$"
   ]
  },
  {
   "cell_type": "code",
   "execution_count": 3,
   "id": "d6db53ff",
   "metadata": {},
   "outputs": [
    {
     "name": "stdout",
     "output_type": "stream",
     "text": [
      "0.9635291544102929 0.06822444195822983\n"
     ]
    }
   ],
   "source": [
    "from scipy.optimize import fsolve\n",
    "import math\n",
    "import numpy as np\n",
    "\n",
    "n = 200\n",
    "xi = np.random.uniform(-8, 8, n)\n",
    "a = np.random.uniform(0.5, 1.5, n)\n",
    "b = np.random.uniform(-1, 1, n)\n",
    "yi = np.exp(a*xi+b)/(np.exp(a*xi+b)+1)\n",
    "\n",
    "def equations(p):\n",
    "    a, b = p\n",
    "    # Запись системы уравнения вида x+y=2, x-y=0\n",
    "    first = (-2*(yi-np.exp(a*xi+b)/(np.exp(a*xi+b)+1))*xi*np.exp(a*xi+b)/(np.exp(a*xi+b)+1)**2).sum()\n",
    "    second = (-2*(yi-np.exp(a*xi+b)/(np.exp(a*xi+b)+1))*np.exp(a*xi+b)/(np.exp(a*xi+b)+1)**2).sum()\n",
    "    return (first, second)\n",
    "\n",
    "# Численное решение системы уравнений\n",
    "a, b =  fsolve(equations, (0, 0))\n",
    "print (a, b)"
   ]
  },
  {
   "cell_type": "markdown",
   "id": "e144489b",
   "metadata": {},
   "source": [
    "посчитаем коэффициент корреляции:\n",
    "$r=\\sqrt{\\frac{\\sum\\limits_{i=1}^n(y_{i}-\\overline y)^2-\\sum\\limits_{i=1}^n(y_{i}-y(x_{i}))^2}{\\sum\\limits_{i=1}^n(y_{i}-\\overline y)^2}}$"
   ]
  },
  {
   "cell_type": "code",
   "execution_count": 4,
   "id": "26bb4310",
   "metadata": {},
   "outputs": [
    {
     "data": {
      "text/plain": [
       "0.989362456379306"
      ]
     },
     "execution_count": 4,
     "metadata": {},
     "output_type": "execute_result"
    }
   ],
   "source": [
    "y_ = yi.sum() / n\n",
    "\n",
    "r = np.sqrt((((yi-y_)**2).sum()-((yi-(np.exp(a*xi+b)/(np.exp(a*xi+b)+1)))**2).sum())/((yi-y_)**2).sum())\n",
    "r"
   ]
  },
  {
   "cell_type": "code",
   "execution_count": 11,
   "id": "24c233bd",
   "metadata": {},
   "outputs": [
    {
     "data": {
      "image/png": "[encoded data removed]",
      "text/plain": [
       "<Figure size 432x288 with 1 Axes>"
      ]
     },
     "metadata": {
      "needs_background": "light"
     },
     "output_type": "display_data"
    }
   ],
   "source": [
    "import matplotlib.pyplot as plt\n",
    "\n",
    "# Задаем рандомное распределение точек\n",
    "xi = np.random.uniform(-8, 8, n)\n",
    "yi = 1/(1+np.exp(-np.random.uniform(0.5, 1.5, n)*xi-np.random.uniform(-1, 1, n)))\n",
    "plt.plot(xi,yi, marker=\"o\", ls=\"\")\n",
    "\n",
    "x = np.linspace(-8, 8, n)\n",
    "y = np.exp(a*x+b)/(np.exp(a*x+b)+1)\n",
    "plt.plot(x,y, c=\"r\")\n",
    "\n",
    "plt.show()"
   ]
  }
 ],
 "metadata": {
  "kernelspec": {
   "display_name": "Python 3",
   "language": "python",
   "name": "python3"
  },
  "language_info": {
   "codemirror_mode": {
    "name": "ipython",
    "version": 3
   },
   "file_extension": ".py",
   "mimetype": "text/x-python",
   "name": "python",
   "nbconvert_exporter": "python",
   "pygments_lexer": "ipython3",
   "version": "3.8.8"
  }
 },
 "nbformat": 4,
 "nbformat_minor": 5
}
