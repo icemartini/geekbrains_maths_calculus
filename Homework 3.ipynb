{
 "cells": [
  {
   "cell_type": "markdown",
   "id": "d2aa8ea1",
   "metadata": {},
   "source": [
    "# Урок 3\n",
    "# Предел последовательности"
   ]
  },
  {
   "cell_type": "markdown",
   "id": "0cc3d2b8",
   "metadata": {},
   "source": [
    "__1.__ Найти предел последовательности:\n",
    "\n",
    "$$а)\\,\\,\\,\\,\\lim_{n\\to \\infty} \\frac{(23-2n^2)(3n^2+17)^2}{4n^6+n-1}$$\n",
    "\n",
    "$$б)\\,\\,\\,\\,\\lim_{n\\to \\infty} \\frac{(97-2n)^3}{2n(3n^2+15)+8n}$$\n",
    "\n",
    "$$в)\\,\\,\\,\\,\\lim_{n\\to \\infty} \\frac{2n^3+13n(n+18)}{(27-n)(2n+19)^2}$$\n",
    "\n",
    "$$г)\\,\\,\\,\\,\\lim_{n\\to \\infty} (\\sqrt{n^2+1}-n)$$\n",
    "\n",
    "$$д)\\,\\,\\,\\,\\lim_{n\\to \\infty} \\frac{(-4)^n+5\\cdot7^n}{(-4)^{n-1}+7^{n+2}}$$\n",
    "\n",
    "$$e)^*\\,\\,\\,\\,\\lim_{n\\to \\infty} \\Bigl(\\frac{1}{1\\cdot2}+\\frac{1}{2\\cdot3}+\\frac{1}{3\\cdot4}+...+\\frac{1}{(n-1)\\cdot n}\\Bigr)$$"
   ]
  },
  {
   "cell_type": "markdown",
   "id": "34847303",
   "metadata": {},
   "source": [
    "__Решение:__\n",
    "    \n",
    "### $ а) \\frac{(-2)\\cdot3\\cdot3}{4} = \\frac{-18}{4} = -4.5$\n",
    "\n",
    "### $б) \\frac{(-2)^3}{2\\cdot3} = \\frac{-8}{6} = -\\frac{4}{3}$\n",
    "\n",
    "### $в) \\frac{2}{(-1)\\cdot2^2} = \\frac{2}{-4} = -\\frac{1}{2}$\n",
    "\n",
    "### $г) \\lim_{n\\to \\infty} (\\sqrt{n^2+1}-n) = \\lim_{n\\to \\infty} (\\sqrt{n^2+1}-n)\\cdot\\frac{\\sqrt{n^2+1}+n}{\\sqrt{n^2+1}+n} = \\lim_{n\\to \\infty} \\frac{n^2+1-n^2}{\\sqrt{n^2+1}+n} = \\Bigl(\\frac{1}{\\infty}\\Bigr)=0$\n",
    "\n",
    "### $д) \\lim_{n\\to \\infty} \\frac{(-4)^n+5\\cdot7^n}{(-4)^{n-1}+7^{n+2}} = \\lim_{n\\to \\infty} \\frac{7^n\\Bigl(\\Bigl(-\\frac{4}{7}\\Bigr)^n+5\\Bigr)}{7^n\\Bigl(\\frac{1}{-4}\\cdot\\Bigl(-\\frac{4}{7}\\Bigr)^n+7^{2}\\Bigr)} = \\frac{5}{49}$\n",
    "\n",
    "### $е) \\lim_{n\\to \\infty} \\Bigl(\\frac{1}{1\\cdot2}+\\frac{1}{2\\cdot3}+\\frac{1}{3\\cdot4}+...+\\frac{1}{(n-1)\\cdot n}\\Bigr) = \\lim_{n\\to \\infty} \\Bigl(\\Bigl(1 - \\frac{1}{2}\\Bigr)+\\Bigl(\\frac{1}{2} - \\frac{1}{3}\\Bigr)+\\Bigl(\\frac{1}{3} - \\frac{1}{4}\\Bigr)+...+\\Bigl(\\frac{1}{n} - \\frac{1}{n-1}\\Bigr)\\Bigr) = \\lim_{n\\to \\infty} \\Bigl(1 - \\frac{1}{n-1}\\Bigr) = 1$"
   ]
  },
  {
   "cell_type": "markdown",
   "id": "af61c345",
   "metadata": {},
   "source": [
    "__2.__ Представьте $1$ в виде суммы трех рациональных дробей с разными знаменателями и числителем равным $1$."
   ]
  },
  {
   "cell_type": "markdown",
   "id": "a576b938",
   "metadata": {},
   "source": [
    "__Решение:__\n",
    "\n",
    "формула разложения аликватной дроби:\n",
    "### $\\frac{1}{a} = \\frac{1}{a+1} + \\frac{1}{a(a+1)}$ \n",
    "\n",
    "### $1 = \\frac{1}{2} + \\frac{1}{2}$\n",
    "\n",
    "### $\\frac {1}{2} = \\frac{1}{3} + \\frac{1}{6}$\n",
    "\n",
    "### $1 = \\frac {1}{2} + \\frac{1}{3} + \\frac{1}{6}$"
   ]
  },
  {
   "cell_type": "markdown",
   "id": "9f82cd36",
   "metadata": {},
   "source": [
    "__3$^*$.__ Тоже задание, только в виде суммы шести дробей."
   ]
  },
  {
   "cell_type": "markdown",
   "id": "dd19b9c7",
   "metadata": {},
   "source": [
    "__Решение:__\n",
    "\n",
    "по формуле из задания 2:\n",
    "\n",
    "### $\\frac{1}{2} = \\frac{1}{3} + \\frac{1}{6}$\n",
    "\n",
    "### $\\frac{1}{3} = \\frac{1}{4} + \\frac{1}{12}$\n",
    "\n",
    "### $\\frac{1}{6} = \\frac{1}{7} + \\frac{1}{42}$\n",
    "\n",
    "### $1 = \\frac{1}{3} + \\frac{1}{4} + \\frac{1}{6} + \\frac{1}{7} + \\frac{1}{12} + \\frac{1}{42}$"
   ]
  },
  {
   "cell_type": "markdown",
   "id": "3a51d09f",
   "metadata": {},
   "source": [
    "__4.__ Пользуясь критерием Коши, докажите сходимость последовательности:\n",
    "\n",
    "### $$a_n=\\frac{\\sin1}{2}+\\frac{\\sin2}{2^2}+\\frac{\\sin3}{2^3}+..\\frac{\\sin n}{2^n}\\,\\,\\,\\,\\,\\Rightarrow$$\n",
    "\n",
    "### $$\\Bigl\\{a_n\\Bigr\\}_{n=1}^\\infty=\\Bigl\\{\\frac{\\sin1}{2}, \\frac{\\sin1}{2}+\\frac{\\sin2}{2^2}, ..., a_n,...\\Bigr\\}$$\n",
    "\n",
    "\n",
    "$^*$ Какой член последовательности можно взять в качестве предела с точностью $\\varepsilon=10^{-7}$?"
   ]
  },
  {
   "cell_type": "markdown",
   "id": "d28c8e3d",
   "metadata": {},
   "source": [
    "__Решение:__\n",
    "\n",
    "### $|a_n - a_{n+k}| = |\\sum_{i=1}^{n} \\frac{\\sin i}{2^i} - \\sum_{i=1}^{n+k} \\frac{\\sin i}{2^i}| = |\\sum_{i=n+1}^{n+k} \\frac{\\sin i}{2^i}| < \\sum_{i=n+1}^{n+k} \\frac{1}{2^i} = \\varepsilon$\n",
    "\n",
    "### $\\sum_{i=n+1}^{n+k} \\frac{1}{2^i} = \\frac{1}{2^{n+1}} + \\frac{1}{2^{n+2}} + ..\\frac{1}{2^{n+k}} = \\frac{1}{2^{n}}\\cdot\\Bigl(\\frac{1}{2} + \\frac{1}{4} + ..\\frac{1}{2^k}\\Bigr)\\le \\frac{1}{2^{n}}\\cdot1<\\frac{1}{2^{N(\\varepsilon)}}=\\varepsilon \\Rightarrow 2^{N(\\varepsilon)}=\\frac{1}{\\varepsilon}\\Rightarrow N(\\varepsilon)=-\\log_2 \\varepsilon$"
   ]
  },
  {
   "cell_type": "markdown",
   "id": "04198d24",
   "metadata": {},
   "source": [
    "Тот факт, что нам удалось найти связь между $N(\\varepsilon)$, говорит о том, что предел существует.\n",
    "\n",
    "$\\varepsilon = 10^{-7} \\Rightarrow N(\\varepsilon) \\approx 23,25$\n",
    "\n",
    "$n > N(\\varepsilon) \\Rightarrow n = 24$"
   ]
  },
  {
   "cell_type": "markdown",
   "id": "f281879c",
   "metadata": {},
   "source": [
    "__5$^*$.__  Пользуясь критерием Коши, докажите расходимость последовательности:\n",
    "\n",
    "### $$b_n=1+\\frac{1}{2}+\\frac{1}{3}+..\\frac{1}{n}\\,\\,\\,\\,\\,\\Rightarrow$$\n",
    "\n",
    "### $$\\Bigl\\{b_n\\Bigr\\}_{n=1}^\\infty=\\Bigl\\{1, 1+\\frac{1}{2},1+\\frac{1}{2}+\\frac{1}{3}, ..., b_n,...\\Bigr\\}$$"
   ]
  },
  {
   "cell_type": "markdown",
   "id": "2a9e9e53",
   "metadata": {},
   "source": [
    "__Решение:__\n",
    "\n",
    "Требуется доказать, что $\\exists\\varepsilon>0\\,\\,\\,\\forall N(\\varepsilon), \\,\\,\\,\\exists n>N(\\varepsilon)\\,\\,\\,\\exists k\\geq1:|a_n-a_{n+k}|\\geq\\varepsilon$\n",
    "\n",
    "### $|a_n - a_{n+k}| = |\\sum_{i=1}^{n} \\frac{1}{i} - \\sum_{i=1}^{n+k} \\frac{1}{i}| = |\\sum_{i=n+1}^{n+k} \\frac{1}{i}| $\n",
    "\n",
    "Пусть $k = n$, тогда:\n",
    "\n",
    "### $|\\sum_{i=n+1}^{n+k} \\frac{1}{i}| = |\\sum_{i=n+1}^{2n} \\frac{1}{i}| = \\frac{1}{n+1} + \\frac{1}{n+2} + ..\\frac{1}{n+n} > \\frac{1}{n+n} + \\frac{1}{n+n} + ..\\frac{1}{n+n} = \\frac{1}{2n}\\cdot n = \\frac{1}{2} = \\varepsilon$\n",
    "\n",
    "Т.е. если взять $\\varepsilon=\\frac{1}{2}$, то критерий Коши $|a_n-a_{n+k}|<\\varepsilon$ не выполняется. Следовательно,  последовательность расходится."
   ]
  }
 ],
 "metadata": {
  "kernelspec": {
   "display_name": "Python 3",
   "language": "python",
   "name": "python3"
  },
  "language_info": {
   "codemirror_mode": {
    "name": "ipython",
    "version": 3
   },
   "file_extension": ".py",
   "mimetype": "text/x-python",
   "name": "python",
   "nbconvert_exporter": "python",
   "pygments_lexer": "ipython3",
   "version": "3.8.8"
  }
 },
 "nbformat": 4,
 "nbformat_minor": 5
}
