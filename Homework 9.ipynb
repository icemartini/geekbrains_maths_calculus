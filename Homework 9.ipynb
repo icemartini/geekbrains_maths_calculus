{
 "cells": [
  {
   "cell_type": "markdown",
   "id": "21b6a85f",
   "metadata": {},
   "source": [
    "# Урок 9\n",
    "# Интегралы"
   ]
  },
  {
   "cell_type": "code",
   "execution_count": 1,
   "id": "35c885f2",
   "metadata": {},
   "outputs": [],
   "source": [
    "from sympy import *\n",
    "init_printing()"
   ]
  },
  {
   "cell_type": "markdown",
   "id": "608cd21c",
   "metadata": {},
   "source": [
    "__1.__ Вычислить неопределенный интеграл\n",
    "\n",
    "### $$\\int \\frac{2x+3}{(x-2)(x+5)}\\,dx$$"
   ]
  },
  {
   "cell_type": "markdown",
   "id": "17e50aeb",
   "metadata": {},
   "source": [
    "### $\\frac{2x+3}{(x-2)(x+5)}=\\frac{A}{x-2}+\\frac{B}{x+5} = \\frac{x(A+B)+5A-2B}{(x-2)(x-5)} $\n",
    "#### $\\begin{cases}\n",
    "   A+B=2, \\\\\n",
    "   5A-2B=3\n",
    " \\end{cases}\\Rightarrow \n",
    " \\begin{cases}\n",
    "   A=2-B, \\\\\n",
    "   10-7B=3\n",
    " \\end{cases}\\Rightarrow\\begin{cases}\n",
    "   A=1, \\\\\n",
    "   B=1\n",
    " \\end{cases}$\n",
    "### $\\int\\frac{2x+3}{(x-2)(x+5)}\\,dx = \\int\\frac{1}{x-2}\\,dx+\\int\\frac{1}{x+5}\\,dx = \\ln|x-2|+\\ln|x+5| + C = \\ln(|x-2|\\cdot|x+5|) + C$"
   ]
  },
  {
   "cell_type": "code",
   "execution_count": 2,
   "id": "6c0c56dc",
   "metadata": {},
   "outputs": [
    {
     "data": {
      "image/png": "[encoded data removed]",
      "text/latex": [
       "$\\displaystyle \\frac{2 x + 3}{\\left(x - 2\\right) \\left(x + 5\\right)}$"
      ],
      "text/plain": [
       "    2⋅x + 3    \n",
       "───────────────\n",
       "(x - 2)⋅(x + 5)"
      ]
     },
     "execution_count": 2,
     "metadata": {},
     "output_type": "execute_result"
    }
   ],
   "source": [
    "x=Symbol('x')\n",
    "f=(2*x+3)/(x-2)/(x+5)\n",
    "f"
   ]
  },
  {
   "cell_type": "code",
   "execution_count": 3,
   "id": "776200db",
   "metadata": {},
   "outputs": [
    {
     "data": {
      "image/png": "[encoded data removed]",
      "text/latex": [
       "$\\displaystyle \\log{\\left(x^{2} + 3 x - 10 \\right)}$"
      ],
      "text/plain": [
       "   ⎛ 2           ⎞\n",
       "log⎝x  + 3⋅x - 10⎠"
      ]
     },
     "execution_count": 3,
     "metadata": {},
     "output_type": "execute_result"
    }
   ],
   "source": [
    "integrate(f,x)"
   ]
  },
  {
   "cell_type": "markdown",
   "id": "b614c685",
   "metadata": {},
   "source": [
    "__2.__ Вычислить неопределенный интеграл\n",
    "\n",
    "### $$\\int e^{2x}\\cos 3x\\,dx$$"
   ]
  },
  {
   "cell_type": "markdown",
   "id": "cfbaa82c",
   "metadata": {},
   "source": [
    "### $\\int U\\cdot dV=U\\cdot V-\\int V\\cdot dU$\n",
    "### $U = \\cos3x, dU = -3\\sin(3x)dx$\n",
    "### $dV = e^{2x}dx, V = \\frac{e^{2x}}{2}$\n",
    "### $\\int e^{2x}\\cos 3x\\,dx = \\cos3x\\cdot\\frac{e^{2x}}{2}+3\\int \\frac{e^{2x}}{2}\\sin3x\\,dx = \\cos3x\\cdot\\frac{e^{2x}}{2}+\\frac{3}{2}\\int e^{2x}\\sin3x\\,dx$\n",
    "### $U = \\sin3x, dU = 3\\cos3x\\,dx$\n",
    "### $dV = e^{2x}dx, V = \\frac{e^{2x}}{2}$\n",
    "### $\\int e^{2x}\\cos 3x\\,dx = \\cos3x\\cdot\\frac{e^{2x}}{2}+\\frac{3}{2}(\\sin3x\\cdot\\frac{e^{2x}}{2}-\\frac{3}{2}\\int e^{2x}\\cos3x\\,dx)$\n",
    "### $\\frac{13}{4}\\int e^{2x}\\cos 3x\\,dx = \\frac{\\cos3x\\cdot e^{2x}}{2}+\\frac{3\\sin3x\\cdot e^{2x}}{4}$\n",
    "### $\\int e^{2x}\\cos 3x\\,dx = \\frac{2\\cos3x\\cdot e^{2x}}{13}+\\frac{3\\sin3x\\cdot e^{2x}}{13} + C$"
   ]
  },
  {
   "cell_type": "code",
   "execution_count": 4,
   "id": "e6dbe155",
   "metadata": {},
   "outputs": [
    {
     "data": {
      "image/png": "[encoded data removed]",
      "text/latex": [
       "$\\displaystyle e^{2 x} \\cos{\\left(3 x \\right)}$"
      ],
      "text/plain": [
       " 2⋅x         \n",
       "ℯ   ⋅cos(3⋅x)"
      ]
     },
     "execution_count": 4,
     "metadata": {},
     "output_type": "execute_result"
    }
   ],
   "source": [
    "x=Symbol('x')\n",
    "f=exp(2*x)*cos(3*x)\n",
    "f"
   ]
  },
  {
   "cell_type": "code",
   "execution_count": 5,
   "id": "4c78c321",
   "metadata": {},
   "outputs": [
    {
     "data": {
      "image/png": "[encoded data removed]",
      "text/latex": [
       "$\\displaystyle \\frac{3 e^{2 x} \\sin{\\left(3 x \\right)}}{13} + \\frac{2 e^{2 x} \\cos{\\left(3 x \\right)}}{13}$"
      ],
      "text/plain": [
       "   2⋅x               2⋅x         \n",
       "3⋅ℯ   ⋅sin(3⋅x)   2⋅ℯ   ⋅cos(3⋅x)\n",
       "─────────────── + ───────────────\n",
       "       13                13      "
      ]
     },
     "execution_count": 5,
     "metadata": {},
     "output_type": "execute_result"
    }
   ],
   "source": [
    "integrate(f,x)"
   ]
  },
  {
   "cell_type": "markdown",
   "id": "4322a6c3",
   "metadata": {},
   "source": [
    "__3.__ Вычислить определенный интеграл\n",
    "\n",
    "### $$\\int\\limits_0^{\\ln2} xe^{-x}\\,dx$$"
   ]
  },
  {
   "cell_type": "markdown",
   "id": "47467c50",
   "metadata": {},
   "source": [
    "### $U = x, dU = dx$\n",
    "### $dV = e^{-x}\\,dx, V = -e^{-x}$\n",
    "### $\\int\\limits_0^{\\ln2} xe^{-x}\\,dx = (-x\\cdot e^{-x})\\bigg|_0^{\\ln2} + \\int\\limits_0^{\\ln2} e^{-x}dx = (-\\ln2\\cdot e^{-\\ln2} - 0) - e^{-x}\\bigg|_0^{\\ln2} = -\\ln2\\cdot \\frac{1}{2} - (e^{-\\ln2}-e^0) = $\n",
    "### $= -\\frac{\\ln2}{2} - (\\frac{1}{2} - 1) = \\frac{1-\\ln2}{2}$"
   ]
  },
  {
   "cell_type": "code",
   "execution_count": 6,
   "id": "539c2a37",
   "metadata": {},
   "outputs": [
    {
     "data": {
      "image/png": "[encoded data removed]",
      "text/latex": [
       "$\\displaystyle x e^{- x}$"
      ],
      "text/plain": [
       "   -x\n",
       "x⋅ℯ  "
      ]
     },
     "execution_count": 6,
     "metadata": {},
     "output_type": "execute_result"
    }
   ],
   "source": [
    "x = Symbol('x')\n",
    "f = x*exp(-x)\n",
    "f"
   ]
  },
  {
   "cell_type": "code",
   "execution_count": 7,
   "id": "854d61ba",
   "metadata": {},
   "outputs": [
    {
     "data": {
      "image/png": "[encoded data removed]",
      "text/latex": [
       "$\\displaystyle \\frac{1}{2} - \\frac{\\log{\\left(2 \\right)}}{2}$"
      ],
      "text/plain": [
       "1   log(2)\n",
       "─ - ──────\n",
       "2     2   "
      ]
     },
     "execution_count": 7,
     "metadata": {},
     "output_type": "execute_result"
    }
   ],
   "source": [
    "integrate(f,(x, 0, log(2)))"
   ]
  },
  {
   "cell_type": "markdown",
   "id": "0dd22abb",
   "metadata": {},
   "source": [
    "__4.__ Вычислить несобственный интеграл\n",
    "\n",
    "### $$\\int\\limits_2^{+\\infty} \\frac{dx}{x^2+x-2}$$"
   ]
  },
  {
   "cell_type": "markdown",
   "id": "1490854e",
   "metadata": {},
   "source": [
    "### $\\frac{1}{x^2+x-2} = \\frac{1}{(x-1)(x+2)} =\\frac{A}{x-1} + \\frac{B}{x+2} = \\frac{x(A+B)+2A-B}{(x-1)(x+2)}$\n",
    "#### $\\begin{cases}\n",
    "   A+B=0, \\\\\n",
    "   2A-B=1\n",
    " \\end{cases}\\Rightarrow \n",
    " \\begin{cases}\n",
    "   A=-B, \\\\\n",
    "   -3B=1\n",
    " \\end{cases}\\Rightarrow\\begin{cases}\n",
    "   A=\\frac{1}{3}, \\\\\n",
    "   B=-\\frac{1}{3}\n",
    " \\end{cases}$\n",
    "### $\\int\\limits_2^{+\\infty} \\frac{dx}{x^2+x-2} = \\lim_{b\\to +\\infty}\\int\\limits_{2}^{b}\\frac{dx}{x^2+x-2} = \\lim_{b\\to +\\infty}(\\frac{1}{3}\\int\\limits_{2}^{b}\\frac{dx}{x-1} - \\frac{1}{3}\\int\\limits_{2}^{b}\\frac{dx}{x+2}) =$\n",
    "### $= \\frac{1}{3}(\\lim_{b\\to +\\infty}\\ln|b-1|-\\ln1-\\lim_{b\\to +\\infty}\\ln|b+2|+\\ln4) = \\frac{1}{3}(\\lim_{b\\to +\\infty}\\ln\\frac{b-1}{b+2}-0+\\ln4) = $\n",
    "### $= \\frac{1}{3}(\\lim_{b\\to +\\infty}\\ln\\frac{(1-\\frac{1}{b})\\cdot b}{(1+\\frac{2}{b})\\cdot b}+\\ln4) = \\frac{1}{3}(\\ln1+\\ln4) = \\frac{1}{3}(0+\\ln4) = \\frac{\\ln4}{3}$"
   ]
  },
  {
   "cell_type": "code",
   "execution_count": 8,
   "id": "f656ceb9",
   "metadata": {},
   "outputs": [
    {
     "data": {
      "image/png": "[encoded data removed]",
      "text/latex": [
       "$\\displaystyle \\frac{1}{x^{2} + x - 2}$"
      ],
      "text/plain": [
       "    1     \n",
       "──────────\n",
       " 2        \n",
       "x  + x - 2"
      ]
     },
     "execution_count": 8,
     "metadata": {},
     "output_type": "execute_result"
    }
   ],
   "source": [
    "x = Symbol('x')\n",
    "f = 1/(x**2+x-2)\n",
    "f"
   ]
  },
  {
   "cell_type": "code",
   "execution_count": 9,
   "id": "6338f0f5",
   "metadata": {},
   "outputs": [
    {
     "data": {
      "image/png": "[encoded data removed]",
      "text/latex": [
       "$\\displaystyle \\frac{\\log{\\left(4 \\right)}}{3}$"
      ],
      "text/plain": [
       "log(4)\n",
       "──────\n",
       "  3   "
      ]
     },
     "execution_count": 9,
     "metadata": {},
     "output_type": "execute_result"
    }
   ],
   "source": [
    "integrate(f,(x, 2, +oo))"
   ]
  },
  {
   "cell_type": "markdown",
   "id": "85682258",
   "metadata": {},
   "source": [
    "__5*.__ Вычислить несобственный интеграл\n",
    "\n",
    "### $$\\int\\limits_0^{1} \\ln x\\,dx$$"
   ]
  },
  {
   "cell_type": "markdown",
   "id": "ccd16d9a",
   "metadata": {},
   "source": [
    "### $U = \\ln x, dU = \\frac{dx}{x}$\n",
    "### $dV = dx, V = x$\n",
    "### $\\int \\ln x\\,dx = x\\ln x - \\int dx = x(\\ln x - 1) + C$\n",
    "### $\\int\\limits_0^{1} \\ln x\\,dx = \\lim_{\\varepsilon\\to 0}\\int\\limits_{0+\\varepsilon}^{1-\\varepsilon} \\ln x\\,dx=\\lim_{\\varepsilon\\to 0}\\bigl((1-\\varepsilon)(\\ln(1-\\varepsilon) - 1) - (0+\\varepsilon)(\\ln(0+\\varepsilon) - 1)\\bigr) =$\n",
    "### $= \\lim_{\\varepsilon\\to 0}\\ln(1-\\varepsilon) - 1 = 0 - 1 = -1$"
   ]
  },
  {
   "cell_type": "code",
   "execution_count": 10,
   "id": "6926f83c",
   "metadata": {},
   "outputs": [
    {
     "data": {
      "image/png": "[encoded data removed]",
      "text/latex": [
       "$\\displaystyle \\log{\\left(x \\right)}$"
      ],
      "text/plain": [
       "log(x)"
      ]
     },
     "execution_count": 10,
     "metadata": {},
     "output_type": "execute_result"
    }
   ],
   "source": [
    "x = Symbol('x')\n",
    "f = ln(x)\n",
    "f"
   ]
  },
  {
   "cell_type": "code",
   "execution_count": 11,
   "id": "d028c579",
   "metadata": {},
   "outputs": [
    {
     "data": {
      "image/png": "[encoded data removed]",
      "text/latex": [
       "$\\displaystyle -1$"
      ],
      "text/plain": [
       "-1"
      ]
     },
     "execution_count": 11,
     "metadata": {},
     "output_type": "execute_result"
    }
   ],
   "source": [
    "integrate(f,(x, 0, 1))"
   ]
  }
 ],
 "metadata": {
  "kernelspec": {
   "display_name": "Python 3",
   "language": "python",
   "name": "python3"
  },
  "language_info": {
   "codemirror_mode": {
    "name": "ipython",
    "version": 3
   },
   "file_extension": ".py",
   "mimetype": "text/x-python",
   "name": "python",
   "nbconvert_exporter": "python",
   "pygments_lexer": "ipython3",
   "version": "3.8.8"
  }
 },
 "nbformat": 4,
 "nbformat_minor": 5
}
