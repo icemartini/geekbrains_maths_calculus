{
 "cells": [
  {
   "cell_type": "markdown",
   "id": "ef346686",
   "metadata": {},
   "source": [
    "# Урок 2\n",
    "# Теория множеств. Математическая логика."
   ]
  },
  {
   "cell_type": "markdown",
   "id": "e8167150",
   "metadata": {},
   "source": [
    "<hr>\n",
    "\n",
    "__1.__ Представьте в виде __несократимой__ рациональной дроби:\n",
    "\n",
    "$а)\\,\\,\\, 0.(216);$\n",
    "\n",
    "$б)\\,\\,\\, 1.0(01).$"
   ]
  },
  {
   "cell_type": "markdown",
   "id": "23e33a01",
   "metadata": {},
   "source": [
    "#### Решение:\n",
    "\n",
    "$а) 1000x = 216.(216)$\n",
    "\n",
    "$1000x = 216 + 0.(216)$\n",
    "\n",
    "$1000x = 216 + x$\n",
    "\n",
    "$999x = 216$\n",
    "\n",
    "$x = \\frac{216}{999} = \\frac{8}{37}$"
   ]
  },
  {
   "cell_type": "code",
   "execution_count": 3,
   "id": "8a03054b",
   "metadata": {},
   "outputs": [
    {
     "name": "stdout",
     "output_type": "stream",
     "text": [
      "0.21621621621621623\n"
     ]
    }
   ],
   "source": [
    "print(8/37)"
   ]
  },
  {
   "cell_type": "markdown",
   "id": "900ac8f4",
   "metadata": {},
   "source": [
    "$б) x = 1.0(01)$\n",
    "\n",
    "$10x = 10.(01)$\n",
    "\n",
    "$10x = 10 + 0.(01)$\n",
    "\n",
    "$100y = 1.(01)$\n",
    "\n",
    "$100y = 1 + 0.(01)$\n",
    "\n",
    "$100y = 1 + y$\n",
    "\n",
    "$99y = 1$\n",
    "\n",
    "$y = \\frac{1}{99}$\n",
    "\n",
    "$10x = 10 + \\frac{1}{99}$\n",
    "\n",
    "$10x = \\frac{990 + 1}{99} = \\frac{991}{99}$\n",
    "\n",
    "$x = \\frac{991}{990}$"
   ]
  },
  {
   "cell_type": "code",
   "execution_count": 2,
   "id": "28376e99",
   "metadata": {},
   "outputs": [
    {
     "name": "stdout",
     "output_type": "stream",
     "text": [
      "1.001010101010101\n"
     ]
    }
   ],
   "source": [
    "print(991/990)"
   ]
  },
  {
   "cell_type": "markdown",
   "id": "2c2d87a2",
   "metadata": {},
   "source": [
    "<hr>\n",
    "\n",
    "__2*.__ Пусть $x =\\frac{2}{21}$. Известно, что для некоторого натурального $k$ число $x$ записывается в $k$ - ичной системе счисления как $0.(13)_k = 0, 131313..._k$. Найдите $k$."
   ]
  },
  {
   "cell_type": "markdown",
   "id": "270eb7d0",
   "metadata": {},
   "source": [
    "#### Решение:\n",
    "\n",
    "$x = \\frac{2}{21}$\n",
    "\n",
    "$x = 0.(13)_k$\n",
    "\n",
    "$k^2x = 13.(13)_k$\n",
    "\n",
    "$k^2x = 13_k + 0.(13)_k$\n",
    "\n",
    "$k^2x = 13_k + x$\n",
    "\n",
    "$(k^2 - 1)x = 13_k$\n",
    "\n",
    "$x = \\frac{13_k}{k^2 - 1}$\n",
    "\n",
    "$x = \\frac{1\\cdot k^1 + 3 \\cdot k^0}{k^2 - 1}$\n",
    "\n",
    "$x = \\frac{k + 3}{k^2 - 1}$\n",
    "\n",
    "$\\frac{2}{21} = \\frac{k + 3}{k^2 - 1}$\n",
    "\n",
    "$2k^2 - 2 = 21k + 63$\n",
    "\n",
    "$2k^2 - 21k - 65 = 0$\n",
    "\n",
    "$2(k + 2.5)(k - 13) = 0$\n",
    "\n",
    "$k_1 = -2.5, k_2 = 13$\n",
    "\n",
    "#### Ответ: $k = 13$"
   ]
  },
  {
   "cell_type": "markdown",
   "id": "f65d3d43",
   "metadata": {},
   "source": [
    "<hr>\n",
    "\n",
    "__3.__ Проверьте любым способом, являются ли данные логические формулы тавтологией:\n",
    "\n",
    "$a)\\,\\,\\, (A \\vee B) \\rightarrow (B \\vee\\overline A)$\n",
    "\n",
    "$б)\\,\\,\\, A \\rightarrow (A \\vee (\\overline B \\wedge A))$"
   ]
  },
  {
   "cell_type": "markdown",
   "id": "f7098c2c",
   "metadata": {},
   "source": [
    "#### Решение:\n",
    "а) Вывод: это не тавтология<table>\n",
    "<thead>\n",
    "<tr><th>$A$</th><th>$B$</th><th>$(A \\vee B)$</th><th>$\\overline A$</th><th>$(B \\vee\\overline A)$</th><th>$(A \\vee B)\\rightarrow(B \\vee\\overline A)$</th></tr>\n",
    "</thead>\n",
    "<tbody>\n",
    "    <tr><td>$0$</td><td>$0$</td><td>$0$</td><td>$1$</td><td>$1$</td><td>$1$</td></tr>\n",
    "    <tr><td>$0$</td><td>$1$</td><td>$1$</td><td>$1$</td><td>$1$</td><td>$1$</td></tr>\n",
    "    <tr><td>$1$</td><td>$0$</td><td>$1$</td><td>$0$</td><td>$0$</td><td>$0$</td></tr>\n",
    "    <tr><td>$1$</td><td>$1$</td><td>$1$</td><td>$0$</td><td>$1$</td><td>$1$</td></tr>\n",
    "</tbody>\n",
    "</table>"
   ]
  },
  {
   "cell_type": "markdown",
   "id": "b1d2c181",
   "metadata": {},
   "source": [
    "б) Вывод: это тавтология<table>\n",
    "<thead>\n",
    "<tr><th>$A$</th><th>$B$</th><th>$\\overline B$</th><th>$(\\overline B \\wedge A)$</th><th>$(A \\vee (\\overline B \\wedge A))$</th><th>$A \\rightarrow (A \\vee (\\overline B \\wedge A))$</th></tr>\n",
    "</thead>\n",
    "<tbody>\n",
    "    <tr><td>$0$</td><td>$0$</td><td>$1$</td><td>$0$</td><td>$0$</td><td>$1$</td></tr>\n",
    "    <tr><td>$0$</td><td>$1$</td><td>$0$</td><td>$0$</td><td>$0$</td><td>$1$</td></tr>\n",
    "    <tr><td>$1$</td><td>$0$</td><td>$1$</td><td>$1$</td><td>$1$</td><td>$1$</td></tr>\n",
    "    <tr><td>$1$</td><td>$1$</td><td>$0$</td><td>$0$</td><td>$1$</td><td>$1$</td></tr>\n",
    "</tbody>\n",
    "</table>\n",
    "Используем законы:\n",
    "\n",
    "- Коммутативность конъюнкции:  $A \\wedge B=B \\wedge A$\n",
    "\n",
    "- Закон поглощения для дизъюнкции:  $A \\vee (A \\wedge B) = A$\n",
    "\n",
    "$A \\rightarrow (A \\vee (\\overline B \\wedge A))$ &emsp; $\\leftrightarrow$ &emsp; $A \\rightarrow (A \\vee (A \\wedge \\overline B))$ &emsp; $\\leftrightarrow$ &emsp; $A \\rightarrow A = 1$"
   ]
  },
  {
   "cell_type": "markdown",
   "id": "2ac27ca7",
   "metadata": {},
   "source": [
    "<hr>\n",
    "\n",
    "__4.__ Сформулируйте словесно высказывания:\n",
    "\n",
    "$a)\\,\\,\\, (\\overline A \\vee B) \\rightarrow \\overline C$\n",
    "\n",
    "$б)\\,\\,\\, C \\rightarrow (A \\vee \\overline B)$\n",
    "\n",
    "- $A:\\,\\,\\,$ сегодня светит солнце; \n",
    "- $B:\\,\\,\\,$ сегодня сыро; \n",
    "- $C:\\,\\,\\,$ я поеду на дачу. "
   ]
  },
  {
   "cell_type": "markdown",
   "id": "4b0fa802",
   "metadata": {},
   "source": [
    "#### Решение:\n",
    "а) если сегодня не будет солнца или будет сыро, то я не поеду на дачу\n",
    "\n",
    "б) если я поеду на дачу, то сегодня будет светить солнце или будет сухо"
   ]
  },
  {
   "cell_type": "markdown",
   "id": "25727183",
   "metadata": {},
   "source": [
    "<hr>\n",
    "\n",
    "__5.__  Пользуясь правилом построения противоположного высказывания, запишите утверждения, противоположные следующим:\n",
    "\n",
    "a) На любом курсе каждого факультета есть студенты, сдающие все экзамены на «отлично».\n",
    "\n",
    "б) В любом самолете на рейсе Вашингтон-Москва присутствует хотя бы один сотрудник силовых органов, в каждой пуговице одежды которого вмонтирован микрофон."
   ]
  },
  {
   "cell_type": "markdown",
   "id": "9351819c",
   "metadata": {},
   "source": [
    "#### Решение:\n",
    "а) Существуют такие курсы на некоторых факультетах, где нет студентов, сдающих все экзамены на \"отлично\"\n",
    "\n",
    "б) Существует самолет на рейсе Вашингтон-Москва, в котором не присутствует ни одного сотрудника силовых органов, в каждой пуговице одежды которого вмонтирован микрофон."
   ]
  },
  {
   "cell_type": "markdown",
   "id": "75bb92fd",
   "metadata": {},
   "source": [
    "<hr>\n",
    "\n",
    "__6*.__ Прочитайте высказывания, установите их истинность и постройте противоположное высказывание:\n",
    "\n",
    "$a)\\,\\,\\, \\forall x\\in\\mathbb{R}\\,\\,\\,\\exists X\\in\\mathbb{R}:\\,\\,\\, X>x;$\n",
    "\n",
    "$б)\\,\\,\\, \\forall y\\in\\Bigl[0; \\frac{\\pi}{2}\\Bigr]\\,\\,\\,\\exists \\varepsilon>0:\\,\\,\\, \\sin y<\\sin(y+\\varepsilon);$\n",
    "\n",
    "$в)\\,\\,\\, \\forall y\\in\\Bigl[0; \\pi\\Bigr)\\,\\,\\,\\exists \\varepsilon>0:\\,\\,\\, \\cos y>\\cos(y+\\varepsilon).$"
   ]
  },
  {
   "cell_type": "markdown",
   "id": "5d7b982e",
   "metadata": {},
   "source": [
    "#### Решение:\n",
    "а) Для любого вещественного x существует вещественное число X такое, что X больше x. - Истинно.\n",
    "\n",
    "Противоположное: \n",
    "\n",
    "$\\exists x\\in\\mathbb{R}$ &emsp; $\\forall X\\in\\mathbb{R}:$ &emsp; $X\\le x$"
   ]
  },
  {
   "cell_type": "markdown",
   "id": "00133671",
   "metadata": {},
   "source": [
    "б) Для любого $y$ в диапазоне от 0 до $\\frac{\\pi}{2}$ (включая границы) существует положительное $\\varepsilon$ такое, что $\\sin y<\\sin(y+\\varepsilon)$ - Ложно.\n",
    "\n",
    "Противоположное:\n",
    "\n",
    "$\\exists y\\in\\Bigl[0; \\frac{\\pi}{2}\\Bigr]$ &emsp; $\\forall \\varepsilon>0:$ &emsp; $\\sin y\\ge\\sin(y+\\varepsilon)$\n"
   ]
  },
  {
   "cell_type": "markdown",
   "id": "21f5b62a",
   "metadata": {},
   "source": [
    "в) Для любого $y$ в диапазоне от 0 (включительно) до ${\\pi}$ (не включительно) существует положительное $\\varepsilon$ такое, что $\\cos y>\\cos(y+\\varepsilon)$ - Истинно.\n",
    "\n",
    "Противоположное:\n",
    "\n",
    "$\\exists y\\in\\Bigl[0; \\pi\\Bigr)$ &emsp; $\\forall \\varepsilon>0:$ &emsp; $\\cos y\\le\\cos(y+\\varepsilon).$"
   ]
  }
 ],
 "metadata": {
  "kernelspec": {
   "display_name": "Python 3",
   "language": "python",
   "name": "python3"
  },
  "language_info": {
   "codemirror_mode": {
    "name": "ipython",
    "version": 3
   },
   "file_extension": ".py",
   "mimetype": "text/x-python",
   "name": "python",
   "nbconvert_exporter": "python",
   "pygments_lexer": "ipython3",
   "version": "3.8.8"
  }
 },
 "nbformat": 4,
 "nbformat_minor": 5
}
