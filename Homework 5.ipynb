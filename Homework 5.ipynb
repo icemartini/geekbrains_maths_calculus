{
 "cells": [
  {
   "cell_type": "markdown",
   "id": "9ebfa4d1",
   "metadata": {},
   "source": [
    "# Урок 5\n",
    "# Производная функции одной переменной. Часть 1"
   ]
  },
  {
   "cell_type": "code",
   "execution_count": 1,
   "id": "b40b8d06",
   "metadata": {},
   "outputs": [],
   "source": [
    "from sympy import *\n",
    "import warnings\n",
    "warnings.filterwarnings('ignore')\n",
    "x = Symbol('x')"
   ]
  },
  {
   "cell_type": "markdown",
   "id": "4f57286b",
   "metadata": {},
   "source": [
    "__1.__ Найти производную функции:\n",
    "\n",
    "### $$y=\\frac{1}{x}+\\frac{2}{x^2}-\\frac{5}{x^3}+\\sqrt x -\\sqrt[3]x+\\frac{3}{\\sqrt x}$$"
   ]
  },
  {
   "cell_type": "markdown",
   "id": "701a4f58",
   "metadata": {},
   "source": [
    "### $y' = (x^{-1})' + (2x^{-2})' - (5x^{-3})' + (x^{\\frac{1}{2}})' - (x^{\\frac{1}{3}})' + (3x^{-\\frac{1}{2}})' = -\\frac{1}{x^2} -\\frac{4}{x^3} + \\frac{15}{x^4} + \\frac{1}{2\\sqrt x} - \\frac{1}{3\\sqrt[3]x^2} - \\frac{3}{2\\sqrt x^3}$"
   ]
  },
  {
   "cell_type": "code",
   "execution_count": 2,
   "id": "700558f8",
   "metadata": {},
   "outputs": [
    {
     "data": {
      "text/latex": [
       "$\\displaystyle - \\sqrt[3]{x} + \\sqrt{x} + \\frac{1}{x} + \\frac{2}{x^{2}} - \\frac{5}{x^{3}} + \\frac{3}{\\sqrt{x}}$"
      ],
      "text/plain": [
       "-x**(1/3) + sqrt(x) + 1/x + 2/x**2 - 5/x**3 + 3/sqrt(x)"
      ]
     },
     "execution_count": 2,
     "metadata": {},
     "output_type": "execute_result"
    }
   ],
   "source": [
    "y = 1 / x + 2 / (x**2) - 5 / (x**3) + sqrt(x) - root(x, 3) + 3 / sqrt(x)\n",
    "y"
   ]
  },
  {
   "cell_type": "code",
   "execution_count": 3,
   "id": "c8cf6b00",
   "metadata": {},
   "outputs": [
    {
     "data": {
      "text/latex": [
       "$\\displaystyle - \\frac{1}{x^{2}} - \\frac{4}{x^{3}} + \\frac{15}{x^{4}} + \\frac{1}{2 \\sqrt{x}} - \\frac{3}{2 x^{\\frac{3}{2}}} - \\frac{1}{3 x^{\\frac{2}{3}}}$"
      ],
      "text/plain": [
       "-1/x**2 - 4/x**3 + 15/x**4 + 1/(2*sqrt(x)) - 3/(2*x**(3/2)) - 1/(3*x**(2/3))"
      ]
     },
     "execution_count": 3,
     "metadata": {},
     "output_type": "execute_result"
    }
   ],
   "source": [
    "diff(y, x)"
   ]
  },
  {
   "cell_type": "markdown",
   "id": "844e2a09",
   "metadata": {},
   "source": [
    "__2.__ Найти производную функции:\n",
    "\n",
    "### $$y=x \\cdot \\sqrt {1+x^2}$$"
   ]
  },
  {
   "cell_type": "markdown",
   "id": "be38b632",
   "metadata": {},
   "source": [
    "### $y' = x'\\cdot\\sqrt{1+x^2} + x\\cdot(\\sqrt{1+x^2})' = \\sqrt{1+x^2} + x\\cdot(1+x^2)'\\cdot(\\sqrt{1+x^2})' = \\sqrt{1+x^2} + x\\cdot2x\\cdot\\frac{1}{2\\sqrt{1+x^2}} = \\sqrt{1+x^2} + \\frac{x^2}{\\sqrt{1+x^2}}$"
   ]
  },
  {
   "cell_type": "code",
   "execution_count": 4,
   "id": "1cc39ee3",
   "metadata": {},
   "outputs": [
    {
     "data": {
      "text/latex": [
       "$\\displaystyle x \\sqrt{x^{2} + 1}$"
      ],
      "text/plain": [
       "x*sqrt(x**2 + 1)"
      ]
     },
     "execution_count": 4,
     "metadata": {},
     "output_type": "execute_result"
    }
   ],
   "source": [
    "y = x * sqrt(1 + x**2)\n",
    "y"
   ]
  },
  {
   "cell_type": "code",
   "execution_count": 5,
   "id": "0d4af1a0",
   "metadata": {},
   "outputs": [
    {
     "data": {
      "text/latex": [
       "$\\displaystyle \\frac{x^{2}}{\\sqrt{x^{2} + 1}} + \\sqrt{x^{2} + 1}$"
      ],
      "text/plain": [
       "x**2/sqrt(x**2 + 1) + sqrt(x**2 + 1)"
      ]
     },
     "execution_count": 5,
     "metadata": {},
     "output_type": "execute_result"
    }
   ],
   "source": [
    "diff(y, x)"
   ]
  },
  {
   "cell_type": "markdown",
   "id": "11a25bb8",
   "metadata": {},
   "source": [
    "__3.__ Найти производную функции:\n",
    "\n",
    "### $$y= \\frac{2x}{1-x^2}$$"
   ]
  },
  {
   "cell_type": "markdown",
   "id": "2541d8d1",
   "metadata": {},
   "source": [
    "### $y' = \\frac{(2x)'(1-x^2)-2x(1-x^2)'}{(1-x^2)^2} = \\frac{2-2x^2+4x^2}{(1-x^2)^2} = \\frac{2(1-x^2)+4x^2}{(1-x^2)^2} = \\frac{2}{1-x^2} + \\frac{4x^2}{(1-x^2)^2} = \\frac{2(1 + x^2)}{(1-x^2)^2}$"
   ]
  },
  {
   "cell_type": "code",
   "execution_count": 6,
   "id": "baf13f24",
   "metadata": {},
   "outputs": [
    {
     "data": {
      "text/latex": [
       "$\\displaystyle \\frac{2 x}{1 - x^{2}}$"
      ],
      "text/plain": [
       "2*x/(1 - x**2)"
      ]
     },
     "execution_count": 6,
     "metadata": {},
     "output_type": "execute_result"
    }
   ],
   "source": [
    "y = 2*x / (1 - x**2)\n",
    "y"
   ]
  },
  {
   "cell_type": "code",
   "execution_count": 7,
   "id": "7b498150",
   "metadata": {},
   "outputs": [
    {
     "data": {
      "text/latex": [
       "$\\displaystyle \\frac{4 x^{2}}{\\left(1 - x^{2}\\right)^{2}} + \\frac{2}{1 - x^{2}}$"
      ],
      "text/plain": [
       "4*x**2/(1 - x**2)**2 + 2/(1 - x**2)"
      ]
     },
     "execution_count": 7,
     "metadata": {},
     "output_type": "execute_result"
    }
   ],
   "source": [
    "diff(y, x)"
   ]
  },
  {
   "cell_type": "markdown",
   "id": "bbbfafea",
   "metadata": {},
   "source": [
    "__4*.__ Найти производную функции:\n",
    "\n",
    "### $$y=\\sqrt{x+ \\sqrt{x+\\sqrt x}}$$"
   ]
  },
  {
   "cell_type": "markdown",
   "id": "20342506",
   "metadata": {},
   "source": [
    "### $y' = \\frac{1}{2(\\sqrt{x+\\sqrt{x+\\sqrt{x}}})}\\cdot(x+\\sqrt{x+\\sqrt{x}})' = \\frac{1}{2(\\sqrt{x+\\sqrt{x+\\sqrt{x}}})}\\cdot(1+\\frac{1}{2\\sqrt{x+\\sqrt{x}}}\\cdot(x+\\sqrt{x})') = $\n",
    "### $= \\frac{1+\\frac{1}{2\\sqrt{x+\\sqrt{x}}}\\cdot(1+\\frac{1}{2\\sqrt{x}})}{2(\\sqrt{x+\\sqrt{x+\\sqrt{x}}})} = \\frac{\\frac{1}{2}+\\frac{\\frac{1}{2}+\\frac{1}{4\\sqrt{x}}}{2\\sqrt{x+\\sqrt{x}}}}{\\sqrt{x+\\sqrt{x+\\sqrt{x}}}}$"
   ]
  },
  {
   "cell_type": "code",
   "execution_count": 8,
   "id": "7242bb56",
   "metadata": {},
   "outputs": [
    {
     "data": {
      "text/latex": [
       "$\\displaystyle \\sqrt{x + \\sqrt{\\sqrt{x} + x}}$"
      ],
      "text/plain": [
       "sqrt(x + sqrt(sqrt(x) + x))"
      ]
     },
     "execution_count": 8,
     "metadata": {},
     "output_type": "execute_result"
    }
   ],
   "source": [
    "y = sqrt(x + sqrt(x + sqrt(x)))\n",
    "y"
   ]
  },
  {
   "cell_type": "code",
   "execution_count": 9,
   "id": "21ac8965",
   "metadata": {},
   "outputs": [
    {
     "data": {
      "text/latex": [
       "$\\displaystyle \\frac{\\frac{\\frac{1}{2} + \\frac{1}{4 \\sqrt{x}}}{2 \\sqrt{\\sqrt{x} + x}} + \\frac{1}{2}}{\\sqrt{x + \\sqrt{\\sqrt{x} + x}}}$"
      ],
      "text/plain": [
       "((1/2 + 1/(4*sqrt(x)))/(2*sqrt(sqrt(x) + x)) + 1/2)/sqrt(x + sqrt(sqrt(x) + x))"
      ]
     },
     "execution_count": 9,
     "metadata": {},
     "output_type": "execute_result"
    }
   ],
   "source": [
    "diff(y, x)"
   ]
  },
  {
   "cell_type": "markdown",
   "id": "b14267bd",
   "metadata": {},
   "source": [
    "__5.__ Найти производную функции:\n",
    "\n",
    "### $$y= \\ln(x+\\sqrt{x^2+1})$$"
   ]
  },
  {
   "cell_type": "markdown",
   "id": "8f3560bc",
   "metadata": {},
   "source": [
    "### $y' = (\\ln(x+\\sqrt{x^2+1}))'\\cdot(x+\\sqrt{x^2+1})' = \\frac{1}{x+\\sqrt{x^2+1}}\\cdot(x'+(\\sqrt{x^2+1})') = \\frac{1 + \\frac{1}{2\\sqrt{x^2+1}}(x^2+1)'}{x+\\sqrt{x^2+1}} = \\frac{1+\\frac{x}{\\sqrt{x^2+1}}}{x+\\sqrt{x^2+1}} = $\n",
    "### $= \\frac{\\sqrt{x^2+1}+x}{(x+\\sqrt{x^2+1})(\\sqrt{x^2+1})} = \\frac{1}{\\sqrt{x^2+1}}$"
   ]
  },
  {
   "cell_type": "code",
   "execution_count": 10,
   "id": "5bd7b854",
   "metadata": {},
   "outputs": [
    {
     "data": {
      "text/latex": [
       "$\\displaystyle \\log{\\left(x + \\sqrt{x^{2} + 1} \\right)}$"
      ],
      "text/plain": [
       "log(x + sqrt(x**2 + 1))"
      ]
     },
     "execution_count": 10,
     "metadata": {},
     "output_type": "execute_result"
    }
   ],
   "source": [
    "y = log(x + sqrt(x**2 + 1))\n",
    "y"
   ]
  },
  {
   "cell_type": "code",
   "execution_count": 11,
   "id": "2793843e",
   "metadata": {},
   "outputs": [
    {
     "data": {
      "text/latex": [
       "$\\displaystyle \\frac{\\frac{x}{\\sqrt{x^{2} + 1}} + 1}{x + \\sqrt{x^{2} + 1}}$"
      ],
      "text/plain": [
       "(x/sqrt(x**2 + 1) + 1)/(x + sqrt(x**2 + 1))"
      ]
     },
     "execution_count": 11,
     "metadata": {},
     "output_type": "execute_result"
    }
   ],
   "source": [
    "diff(y, x)"
   ]
  },
  {
   "cell_type": "markdown",
   "id": "2eaa1214",
   "metadata": {},
   "source": [
    "__6.__ Найти производную функции:\n",
    "\n",
    "### $$y=x \\cdot \\ln(x+\\sqrt{x^2+1})-\\sqrt{x^2+1}$$"
   ]
  },
  {
   "cell_type": "markdown",
   "id": "cefaffc2",
   "metadata": {},
   "source": [
    "### $y' = (x \\cdot \\ln(x+\\sqrt{x^2+1}))'-(\\sqrt{x^2+1})' = x'\\ln(x+\\sqrt{x^2+1}) + x\\ln(x+\\sqrt{x^2+1})' - \\frac{1}{2\\sqrt{x^2+1}}(x^2-1)' =$\n",
    "### $= \\ln(x+\\sqrt{x^2+1}) + x\\ln(x+\\sqrt{x^2+1})' - \\frac{x}{\\sqrt{x^2+1}} = \\ln(x+\\sqrt{x^2+1}) + x\\cdot\\frac{1}{\\sqrt{x^2+1}} - \\frac{x}{\\sqrt{x^2+1}} = \\ln(x+\\sqrt{x^2+1})$"
   ]
  },
  {
   "cell_type": "code",
   "execution_count": 12,
   "id": "4f39d2d3",
   "metadata": {},
   "outputs": [
    {
     "data": {
      "text/latex": [
       "$\\displaystyle x \\log{\\left(x + \\sqrt{x^{2} + 1} \\right)} - \\sqrt{x^{2} + 1}$"
      ],
      "text/plain": [
       "x*log(x + sqrt(x**2 + 1)) - sqrt(x**2 + 1)"
      ]
     },
     "execution_count": 12,
     "metadata": {},
     "output_type": "execute_result"
    }
   ],
   "source": [
    "y = x*log(x + sqrt(x**2 + 1)) - sqrt(x**2 + 1)\n",
    "y"
   ]
  },
  {
   "cell_type": "code",
   "execution_count": 13,
   "id": "81ca3096",
   "metadata": {},
   "outputs": [
    {
     "data": {
      "text/latex": [
       "$\\displaystyle - \\frac{x}{\\sqrt{x^{2} + 1}} + \\frac{x \\left(\\frac{x}{\\sqrt{x^{2} + 1}} + 1\\right)}{x + \\sqrt{x^{2} + 1}} + \\log{\\left(x + \\sqrt{x^{2} + 1} \\right)}$"
      ],
      "text/plain": [
       "-x/sqrt(x**2 + 1) + x*(x/sqrt(x**2 + 1) + 1)/(x + sqrt(x**2 + 1)) + log(x + sqrt(x**2 + 1))"
      ]
     },
     "execution_count": 13,
     "metadata": {},
     "output_type": "execute_result"
    }
   ],
   "source": [
    "diff(y, x)"
   ]
  },
  {
   "cell_type": "markdown",
   "id": "edb2a315",
   "metadata": {},
   "source": [
    "__7*.__ Найти производную функции:\n",
    "\n",
    "### $$y=\\arcsin (\\sin x)$$"
   ]
  },
  {
   "cell_type": "markdown",
   "id": "7ac29a52",
   "metadata": {},
   "source": [
    "### $y' = \\arcsin(\\sin(x))'\\cdot\\sin(x)' = \\frac{\\cos(x)}{\\sqrt{1-\\sin^2(x)}} = \\frac{\\cos(x)}{\\sqrt{\\cos^2(x)}} = \\frac{\\cos(x)}{|\\cos(x)|}$"
   ]
  },
  {
   "cell_type": "code",
   "execution_count": 14,
   "id": "8faf2d3c",
   "metadata": {},
   "outputs": [
    {
     "data": {
      "text/latex": [
       "$\\displaystyle \\operatorname{asin}{\\left(\\sin{\\left(x \\right)} \\right)}$"
      ],
      "text/plain": [
       "asin(sin(x))"
      ]
     },
     "execution_count": 14,
     "metadata": {},
     "output_type": "execute_result"
    }
   ],
   "source": [
    "y = asin(sin(x))\n",
    "y"
   ]
  },
  {
   "cell_type": "code",
   "execution_count": 15,
   "id": "fc7ae9b3",
   "metadata": {},
   "outputs": [
    {
     "data": {
      "text/latex": [
       "$\\displaystyle \\frac{\\cos{\\left(x \\right)}}{\\sqrt{1 - \\sin^{2}{\\left(x \\right)}}}$"
      ],
      "text/plain": [
       "cos(x)/sqrt(1 - sin(x)**2)"
      ]
     },
     "execution_count": 15,
     "metadata": {},
     "output_type": "execute_result"
    }
   ],
   "source": [
    "diff(y, x)"
   ]
  },
  {
   "cell_type": "markdown",
   "id": "0a5387ae",
   "metadata": {},
   "source": [
    "__8*.__ Вычислить приближенное значение: \n",
    "\n",
    "### $$\\sin(1^0)=\\sin\\Bigl(\\frac{\\pi}{180}\\Bigr)$$"
   ]
  },
  {
   "cell_type": "markdown",
   "id": "606622a7",
   "metadata": {},
   "source": [
    "### $f(x +\\Delta x) \\approx f(x)+f'(x) \\cdot \\Delta x$\n",
    "### $\\sin(0^0 + \\frac{\\pi}{180}) = \\sin(0^0) + \\cos(0^0)\\cdot\\frac{\\pi}{180} = 0 + 1\\cdot\\frac{\\pi}{180} = \\frac{\\pi}{180}$"
   ]
  },
  {
   "cell_type": "markdown",
   "id": "0f6796eb",
   "metadata": {},
   "source": [
    "__9**.__ Написать на python алгоритм, по вычислению значений $\\sin(x)$ для $х \\in[0, 30^0]$\n",
    "\n",
    "Для проверки подойдут данные из таблицы Брадиса"
   ]
  },
  {
   "cell_type": "markdown",
   "id": "f09e8bde",
   "metadata": {},
   "source": [
    "### $f(x +\\Delta x) \\approx f(x)+f'(x) \\cdot \\Delta x$\n",
    "### $\\sin(x + \\Delta x) \\approx \\sin(x) + \\sin'(x)\\cdot \\Delta x = \\sin(x) + \\cos(x)\\cdot \\Delta x$ "
   ]
  },
  {
   "cell_type": "code",
   "execution_count": 14,
   "id": "d6ffcbde",
   "metadata": {},
   "outputs": [],
   "source": [
    "import math\n",
    "\n",
    "def approx_sinus(deg):\n",
    "    deg = deg % 360\n",
    "    sin = 0\n",
    "    cos = 1\n",
    "    alpha = abs(deg)\n",
    "    # приводим угол к значению от 0 до 90\n",
    "    if 90 < deg <= 270 or -270 <= deg < -90:\n",
    "        alpha = abs(180 - abs(deg))\n",
    "    elif 270 < deg <= 360 or -360 <= deg < -270:\n",
    "        alpha = 360 - abs(deg)\n",
    "    for i in range(alpha):\n",
    "        sin = sin+cos*math.radians(1)\n",
    "        cos = math.sqrt(1-sin**2) if round(sin, 4) < 1.0 else 0.0\n",
    "    if (180 < deg <= 360 or -180 <= deg < 0):\n",
    "        sin = -sin\n",
    "    print(f'sin = {math.sin(math.radians(deg))} - точное значение')\n",
    "    print(f'sin = {sin} - приблизительное значение')\n",
    "    print(f'погрешность: {abs(math.sin(math.radians(deg)) - sin)}')\n",
    "\n",
    "def find_sin():\n",
    "    deg = input('Введите угол в градусах: ')\n",
    "    try:\n",
    "        deg = int(deg)\n",
    "    except:\n",
    "        print('Вы ошиблись при вводе.')\n",
    "    approx_sinus(deg)"
   ]
  },
  {
   "cell_type": "code",
   "execution_count": 13,
   "id": "ae47ed86",
   "metadata": {
    "scrolled": false
   },
   "outputs": [
    {
     "name": "stdout",
     "output_type": "stream",
     "text": [
      "Введите угол в градусах: 10\n",
      "sin = 0.17364817766693033 - точное значение\n",
      "sin = 0.17377556439013073 - приблизительное значение\n",
      "погрешность: 0.00012738672320039557\n"
     ]
    }
   ],
   "source": [
    "find_sin()"
   ]
  }
 ],
 "metadata": {
  "kernelspec": {
   "display_name": "Python 3",
   "language": "python",
   "name": "python3"
  },
  "language_info": {
   "codemirror_mode": {
    "name": "ipython",
    "version": 3
   },
   "file_extension": ".py",
   "mimetype": "text/x-python",
   "name": "python",
   "nbconvert_exporter": "python",
   "pygments_lexer": "ipython3",
   "version": "3.8.8"
  }
 },
 "nbformat": 4,
 "nbformat_minor": 5
}
