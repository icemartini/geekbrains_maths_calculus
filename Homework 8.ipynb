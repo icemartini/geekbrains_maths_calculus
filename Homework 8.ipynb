{
 "cells": [
  {
   "cell_type": "markdown",
   "id": "54380347",
   "metadata": {},
   "source": [
    "# Урок 8\n",
    "# Производная функции нескольких переменных. Часть 2"
   ]
  },
  {
   "cell_type": "markdown",
   "id": "195492c7",
   "metadata": {},
   "source": [
    "__1.__ Исследовать на условный экстремум функцию\n",
    "### $U=3-8x+6y,$\n",
    "если\n",
    "### $x^2+y^2=36$"
   ]
  },
  {
   "cell_type": "markdown",
   "id": "d049bdd6",
   "metadata": {},
   "source": [
    "Составим функцию Лагранжа:\n",
    "\n",
    "### $$L(x,y,\\lambda)=3-8x+6y +\\lambda \\cdot (x^2+y^2-36)$$\n",
    "\n",
    "Найдем частные производные, приравняем их к нулю и решим систему уравнений:\n",
    "\n",
    "### $$\\begin{cases}\n",
    "   L'_{x}=-8+\\lambda \\cdot2x=0, \\\\\n",
    "   L'_{y}=6+\\lambda \\cdot2y=0, \\\\\n",
    "   L'_{\\lambda}=x^2+y^2-36=0\n",
    " \\end{cases}$$\n",
    " \n",
    "Выразим из первого уравнения $x$, из второго $y$ и подставим всё в третье:\n",
    "### $$\\begin{cases}\n",
    "   x=-\\frac{8}{2\\lambda}, \\\\\n",
    "   y=\\frac{6}{2\\lambda}, \\\\\n",
    "   \\Bigr(-\\frac{8}{2\\lambda}\\Bigl)^2+\\Bigr(\\frac{6}{2\\lambda}\\Bigl)^2=36\n",
    " \\end{cases}\\Rightarrow \n",
    " \\begin{cases}\n",
    "   x=-\\frac{8}{2\\lambda}, \\\\\n",
    "   y=\\frac{6}{2\\lambda}, \\\\\n",
    "   \\frac{100}{4\\lambda^2}=36\n",
    " \\end{cases}\n",
    " \\Rightarrow \n",
    " \\begin{cases}\n",
    "   x=-\\frac{8}{2\\lambda}, \\\\\n",
    "   y=\\frac{6}{2\\lambda}, \\\\\n",
    "   \\lambda^2=\\frac{25}{36}\n",
    " \\end{cases}$$\n",
    " \n",
    "Получаем две точки: $(-\\frac{24}{5},\\frac{18}{5},\\frac{5}{6})$ и $(\\frac{24}{5},-\\frac{18}{5},-\\frac{5}{6})$\n",
    " \n",
    "Найдем вторые производные:\n",
    "### $L''_{xx}=2\\lambda$\n",
    "### $L''_{yy}=2\\lambda$\n",
    "### $L''_{\\lambda \\lambda}=0$\n",
    "### $L''_{xy}=L''_{yx}=0$\n",
    "### $L''_{x\\lambda}=L''_{\\lambda x}=2x$\n",
    "### $L''_{y\\lambda}=L''_{\\lambda y}=2y$ \n",
    "\n",
    "Составим матрицу Гёссе:\n",
    "### $$\\begin{pmatrix}\n",
    "L''_{\\lambda \\lambda} & L''_{\\lambda x} & L''_{\\lambda y}\\\\ \n",
    "L''_{x \\lambda} & L''_{xx} & L''_{xy}\\\\\n",
    "L''_{y \\lambda} & L''_{yx} & L''_{yy}\\\\\n",
    "\\end{pmatrix}\\Rightarrow\n",
    "\\begin{pmatrix}\n",
    "0 & 2x & 2y\\\\ \n",
    "2x & 2\\lambda & 0\\\\\n",
    "2y & 0 & 2\\lambda\\\\\n",
    "\\end{pmatrix}$$\n",
    "\n",
    "Найдем определитель в общем виде:\n",
    "\n",
    "### $$\\Delta=\\begin{vmatrix}\n",
    "0 & 2x & 2y\\\\ \n",
    "2x & 2\\lambda & 0\\\\\n",
    "2y & 0 & 2\\lambda\\\\\n",
    "\\end{vmatrix}=\n",
    "\\begin{vmatrix}\n",
    "+ & - & +\\\\ \n",
    "- & + & -\\\\\n",
    "+ & - & +\\\\\n",
    "\\end{vmatrix}=0\\cdot\n",
    "\\begin{vmatrix}\n",
    "2\\lambda & 0\\\\\n",
    "0 & 2\\lambda\\\\\n",
    "\\end{vmatrix}-2x\\cdot\n",
    "\\begin{vmatrix}\n",
    "2x & 0\\\\\n",
    "2y & 2\\lambda\\\\\n",
    "\\end{vmatrix}+2y\\cdot\n",
    "\\begin{vmatrix}\n",
    "2x & 2\\lambda\\\\\n",
    "2y & 0\\\\\n",
    "\\end{vmatrix}=$$\n",
    "### $$=(-2x)\\cdot 4x\\lambda+2y \\cdot(-4y\\lambda)=-8\\lambda(x^2+y^2)$$\n",
    "\n",
    "По условию задачи $x^2+y^2=36$, тогда \n",
    "### $$\\Delta=-8\\lambda \\cdot 36 = -288\\lambda$$\n",
    "\n",
    "Т.е. знак определителя зависит только от знака $\\lambda$.\n",
    "\n",
    "Если $\\lambda=\\frac{5}{6}$, то $\\Delta<0$, следовательно $(-\\frac{24}{5},\\frac{18}{5},\\frac{5}{6})$ - точка минимума.\n",
    "\n",
    "Если $\\lambda=-\\frac{5}{6}$, то $\\Delta>0$, следовательно $(\\frac{24}{5},-\\frac{18}{5},-\\frac{5}{6})$ - точка максимума."
   ]
  },
  {
   "cell_type": "markdown",
   "id": "23cb1828",
   "metadata": {},
   "source": [
    "__2.__ Исследовать на условный экстремум функцию\n",
    "### $U=2x^2+12xy+32y^2+15,$\n",
    "если\n",
    "### $x^2+16y^2=64$"
   ]
  },
  {
   "cell_type": "markdown",
   "id": "4d21c03c",
   "metadata": {},
   "source": [
    "Составим функцию Лагранжа:\n",
    "\n",
    "### $$L(x,y,\\lambda)=2x^2+12xy+32y^2+15 +\\lambda \\cdot (x^2+16y^2-64)$$\n",
    "\n",
    "Найдем частные производные, приравняем их к нулю и решим систему уравнений:\n",
    "\n",
    "### $$\\begin{cases}\n",
    "   L'_{x}=4x+12y+2\\lambda \\cdot x=0, \\\\\n",
    "   L'_{y}=12x+64y+32\\lambda \\cdot y=0, \\\\\n",
    "   L'_{\\lambda}=x^2+16y^2-64=0\n",
    " \\end{cases}$$\n",
    " \n",
    "Выразим из первого уравнения $x$ и подставим во второе:\n",
    "### $$\\begin{cases}\n",
    "   x=\\frac{-12y}{4+2\\lambda}, \\\\\n",
    "   12\\cdot\\frac{-12y}{4+2\\lambda}+64y+32\\lambda\\cdot y=0, \\\\\n",
    "   x^2+16y^2-64=0\n",
    " \\end{cases}\\Rightarrow \n",
    " \\begin{cases}\n",
    "   x=\\frac{-12y}{4+2\\lambda}, \\\\\n",
    "   64\\lambda^2+256\\lambda+112=0, \\\\\n",
    "   x^2+16y^2-64=0\n",
    " \\end{cases}\n",
    " \\Rightarrow \n",
    " \\begin{cases}\n",
    "   x=\\frac{-12y}{4+2\\lambda}, \\\\\n",
    "    \\left[ \n",
    "   \\begin{gathered} \n",
    "     \\lambda=-\\frac{1}{2}\\\\\n",
    "     \\lambda=-\\frac{7}{2}\n",
    "  \\end{gathered} \n",
    "  \\right. \\\\\n",
    "   x^2+16y^2-64=0\n",
    " \\end{cases}$$\n",
    " \n",
    "При $\\lambda=-\\frac{1}{2}$ получаем $x=-4y, y=\\pm\\sqrt{2}$, т.е. 2 точки $(-4\\sqrt{2},\\sqrt{2},-\\frac{1}{2})$ и $(4\\sqrt{2},-\\sqrt{2},-\\frac{1}{2})$\n",
    "\n",
    "При $\\lambda=-\\frac{7}{2}$ получаем $x=4y, y=\\pm\\sqrt{2}$, т.е. 2 точки $(4\\sqrt{2},\\sqrt{2},-\\frac{7}{2})$ и $(-4\\sqrt{2},-\\sqrt{2},-\\frac{7}{2})$\n",
    " \n",
    "Найдем вторые производные:\n",
    "### $L''_{xx}=4+2\\lambda$\n",
    "### $L''_{yy}=64+32\\lambda$\n",
    "### $L''_{\\lambda \\lambda}=0$\n",
    "### $L''_{xy}=L''_{yx}=12$\n",
    "### $L''_{x\\lambda}=L''_{\\lambda x}=2x$\n",
    "### $L''_{y\\lambda}=L''_{\\lambda y}=32y$ \n",
    "\n",
    "Составим матрицу Гёссе:\n",
    "### $$\\begin{pmatrix}\n",
    "L''_{\\lambda \\lambda} & L''_{\\lambda x} & L''_{\\lambda y}\\\\ \n",
    "L''_{x \\lambda} & L''_{xx} & L''_{xy}\\\\\n",
    "L''_{y \\lambda} & L''_{yx} & L''_{yy}\\\\\n",
    "\\end{pmatrix}\\Rightarrow\n",
    "\\begin{pmatrix}\n",
    "0 & 2x & 32y\\\\ \n",
    "2x & 4+2\\lambda & 12\\\\\n",
    "32y & 12 & 64+32\\lambda\\\\\n",
    "\\end{pmatrix}$$\n",
    "\n",
    "Найдем определитель в общем виде:\n",
    "\n",
    "### $$\\Delta=\\begin{vmatrix}\n",
    "0 & 2x & 32y\\\\ \n",
    "2x & 4+2\\lambda & 12\\\\\n",
    "32y & 12 & 64+32\\lambda\\\\\n",
    "\\end{vmatrix}=\n",
    "\\begin{vmatrix}\n",
    "+ & - & +\\\\ \n",
    "- & + & -\\\\\n",
    "+ & - & +\\\\\n",
    "\\end{vmatrix}=0-2x\\cdot\n",
    "\\begin{vmatrix}\n",
    "2x & 12\\\\\n",
    "32y & 64+32\\lambda\\\\\n",
    "\\end{vmatrix}+32y\\cdot\n",
    "\\begin{vmatrix}\n",
    "2x & 4+2\\lambda\\\\\n",
    "32y & 12\\\\\n",
    "\\end{vmatrix}=$$\n",
    "### $$=(-2x)\\cdot(128x+64x\\lambda-384y)+32y\\cdot(24x-128y+64y\\lambda)=128\\bigl(-(x^2+16y^2)(\\lambda+2)+12xy\\bigr)$$\n",
    "\n",
    "По условию задачи $x^2+16y^2=64$, тогда \n",
    "### $$\\Delta=128(-64(\\lambda+2)+12xy)$$\n",
    "\n",
    "В точке $(-4\\sqrt{2},\\sqrt{2},-\\frac{1}{2}):\n",
    "\\Delta=128(-64(-\\frac{1}{2}+2)+12(-4\\sqrt{2})(\\sqrt{2}))<0$, следовательно это точка минимума \n",
    "\n",
    "В точке $(4\\sqrt{2},-\\sqrt{2},-\\frac{1}{2}): \n",
    "\\Delta=128(-64(-\\frac{1}{2}+2)+12(4\\sqrt{2})(-\\sqrt{2}))<0$, следовательно это точка минимума \n",
    "\n",
    "В точке $(4\\sqrt{2},\\sqrt{2},-\\frac{7}{2}): \n",
    "\\Delta=128(-64(-\\frac{7}{2}+2)+12(4\\sqrt{2})(\\sqrt{2}))>0$, следовательно это точка максимума \n",
    "\n",
    "В точке $(-4\\sqrt{2},-\\sqrt{2},-\\frac{7}{2}): \n",
    "\\Delta=128(-64(-\\frac{7}{2}+2)+12(-4\\sqrt{2})(-\\sqrt{2}))>0$, следовательно это точка максимума"
   ]
  },
  {
   "cell_type": "markdown",
   "id": "3bd0d511",
   "metadata": {},
   "source": [
    "__3.__ Численно найти хотя бы один действительный корень системы нелинейных уравнений:\n",
    "### $$\\begin{cases}\n",
    "   x^2-y^2+3xy^3-2x^2y^2+2x-3y-5=0 \\\\\n",
    "   3y^3-2x^2+2x^3y-5x^2y^2+5=0\n",
    " \\end{cases}$$"
   ]
  },
  {
   "cell_type": "code",
   "execution_count": 1,
   "id": "a8b4c1fd",
   "metadata": {},
   "outputs": [
    {
     "name": "stdout",
     "output_type": "stream",
     "text": [
      "1.375687140379588 -0.17475798541530854 1\n"
     ]
    }
   ],
   "source": [
    "from scipy.optimize import fsolve\n",
    "\n",
    "def equations(p):\n",
    "    x, y = p\n",
    "    first = x**2 - y**2 + 3*x*y**3 - 2*x**2*y**2 + 2*x - 3*y - 5\n",
    "    second = 3*y**3 - 2*x**2 + 2*x**3*y - 5*x**2*y**2 + 5\n",
    "    return (first, second)\n",
    "\n",
    "(x, y), info, ier, mesg =  fsolve(equations, (0, 0), full_output=True)\n",
    "print (x, y, ier)"
   ]
  },
  {
   "cell_type": "markdown",
   "id": "18691e37",
   "metadata": {},
   "source": [
    "__4*.__ Численно найти все $5$ действительных корней."
   ]
  },
  {
   "cell_type": "code",
   "execution_count": 2,
   "id": "58421632",
   "metadata": {},
   "outputs": [
    {
     "name": "stdout",
     "output_type": "stream",
     "text": [
      "(1.37568714, -0.17475799)\n",
      "(2.49435654, 0.70831752)\n",
      "(1.27330206, 1.66203912)\n",
      "(2.21775364, 0.61019398)\n",
      "(-3.65307996, -0.27476342)\n"
     ]
    }
   ],
   "source": [
    "from scipy.optimize import fsolve\n",
    "import numpy as np\n",
    "\n",
    "def equations(p):\n",
    "    x, y = p\n",
    "    first = x**2 - y**2 + 3*x*y**3 - 2*x**2*y**2 + 2*x - 3*y - 5\n",
    "    second = 3*y**3 - 2*x**2 + 2*x**3*y - 5*x**2*y**2 + 5\n",
    "    return (first, second)\n",
    "\n",
    "res = set()\n",
    "for x0 in np.arange(-5, 5, 1):\n",
    "    for y0 in np.arange(-2, 2, 0.5):\n",
    "        solution, info, ier, mesg =  fsolve(equations, (x0, y0), full_output=True)\n",
    "        if ier == 1:\n",
    "            res.add(tuple(map(lambda x: round(x, 8), solution)))\n",
    "\n",
    "for solv in res:\n",
    "    print(solv)"
   ]
  },
  {
   "cell_type": "markdown",
   "id": "6da1eadf",
   "metadata": {},
   "source": [
    "__5*.__ Даны две функции $y_{1}=f(x)$ и $y_{2}=g(x)$. Известно, что:\n",
    "\n",
    "### $$f'(x)=\\frac{1}{2}g(x)$$\n",
    "\n",
    "### $$g'(x)=2-2f(x)$$\n",
    "\n",
    "### $$f(0)=0$$\n",
    "\n",
    "### $$g(0)=1$$\n",
    "\n",
    "Восстановить функции $y_{1}=f(x)$ и $y_{2}=g(x)$ с помощью формулы:\n",
    "\n",
    "### $$f(x+\\Delta x) \\approx f(x)+f'(x) \\cdot \\Delta x$$\n",
    "\n",
    "на участке $[0, 20]$\n",
    "\n",
    "В качестве решения построить график этих функций в одной системе координат."
   ]
  },
  {
   "cell_type": "code",
   "execution_count": 3,
   "id": "355d552f",
   "metadata": {},
   "outputs": [],
   "source": [
    "import numpy as np\n",
    "from scipy.interpolate import splev, splrep\n",
    "\n",
    "n = 100\n",
    "border = 20\n",
    "step = border / n\n",
    "x = np.arange(0, border, step)\n",
    "x = np.append(x,border)\n",
    "\n",
    "f_x = np.array([0])\n",
    "g_x = np.array([1])\n",
    "    \n",
    "while(n != 0):\n",
    "    f_x = np.append(f_x, f_x[-1] + g_x[-1] / 2 * step)\n",
    "    g_x = np.append(g_x, g_x[-1] + (2 - 2*f_x[-1]) * step)\n",
    "    n -= 1\n",
    "    \n",
    "spl1 = splrep(x, f_x)\n",
    "spl2 = splrep(x, g_x)\n",
    "\n",
    "def f_x(k):\n",
    "    return splev(k, spl1)\n",
    "def g_x(k):\n",
    "    return splev(k, spl2)"
   ]
  },
  {
   "cell_type": "code",
   "execution_count": 4,
   "id": "76b89e76",
   "metadata": {},
   "outputs": [
    {
     "data": {
      "image/png": "[encoded data removed]",
      "text/plain": [
       "<Figure size 432x288 with 1 Axes>"
      ]
     },
     "metadata": {
      "needs_background": "light"
     },
     "output_type": "display_data"
    }
   ],
   "source": [
    "import matplotlib.pyplot as plt\n",
    "\n",
    "xi = np.linspace(0,20,20000)\n",
    "\n",
    "plt.plot(xi,f_x(xi), c='r', label='f(x)')\n",
    "plt.plot(xi,g_x(xi), c='b', label='g(x)')\n",
    "plt.legend(loc='upper left', bbox_to_anchor=(1, 1))\n",
    "\n",
    "plt.show()"
   ]
  },
  {
   "cell_type": "markdown",
   "id": "cc098855",
   "metadata": {},
   "source": [
    "__6**.__ Найти все корни уравнения:\n",
    "    \n",
    "### $$f(x)=g(x)$$\n",
    "\n",
    "на участке $[0, 20]$\n",
    "\n",
    "Где $y_{1}=f(x)$ и $y_{2}=g(x)$ - функции из предыдущего решения."
   ]
  },
  {
   "cell_type": "code",
   "execution_count": 5,
   "id": "69425c92",
   "metadata": {},
   "outputs": [
    {
     "name": "stdout",
     "output_type": "stream",
     "text": [
      "Искомые корни уравнения: {1.80296706, 5.75938756, 8.07564909, 12.03207132, 14.34833271, 18.30475586}\n"
     ]
    },
    {
     "data": {
      "image/png": "[encoded data removed]",
      "text/plain": [
       "<Figure size 432x288 with 1 Axes>"
      ]
     },
     "metadata": {
      "needs_background": "light"
     },
     "output_type": "display_data"
    }
   ],
   "source": [
    "from scipy.optimize import fsolve\n",
    "import numpy as np\n",
    "\n",
    "def equations(p):\n",
    "    return (f_x(p) - g_x(p))\n",
    "\n",
    "res = set()\n",
    "for p in np.arange(0, 20, 1):\n",
    "    solution, info, ier, mesg =  fsolve(equations, p, full_output=True)\n",
    "    if ier == 1 and 0 <= solution <=20:\n",
    "        res.update(map(lambda x: round(x, 8), solution))\n",
    "print(f'Искомые корни уравнения: {res}')\n",
    "\n",
    "plt.plot(xi, f_x(xi), c='r')\n",
    "plt.plot(xi, g_x(xi), c='b')\n",
    "\n",
    "for dot in res:\n",
    "    plt.scatter(dot,f_x(dot))\n",
    "    plt.scatter(dot,g_x(dot)) # убедимся, что точки совпадают\n",
    "\n",
    "plt.show()"
   ]
  }
 ],
 "metadata": {
  "kernelspec": {
   "display_name": "Python 3",
   "language": "python",
   "name": "python3"
  },
  "language_info": {
   "codemirror_mode": {
    "name": "ipython",
    "version": 3
   },
   "file_extension": ".py",
   "mimetype": "text/x-python",
   "name": "python",
   "nbconvert_exporter": "python",
   "pygments_lexer": "ipython3",
   "version": "3.8.8"
  }
 },
 "nbformat": 4,
 "nbformat_minor": 5
}
