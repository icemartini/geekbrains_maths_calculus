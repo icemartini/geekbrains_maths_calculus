{
 "cells": [
  {
   "cell_type": "markdown",
   "id": "da43d5c8",
   "metadata": {},
   "source": [
    "# Урок 10\n",
    "# Ряды"
   ]
  },
  {
   "cell_type": "code",
   "execution_count": 1,
   "id": "d607a2e0",
   "metadata": {},
   "outputs": [],
   "source": [
    "from sympy import *\n",
    "init_printing()"
   ]
  },
  {
   "cell_type": "markdown",
   "id": "0f5d024d",
   "metadata": {},
   "source": [
    "__1.__ Исследовать сходимость ряда. \n",
    "\n",
    "\n",
    "### $$\\frac{1}{2\\sqrt2}+\\frac{1}{3\\sqrt3}+\\,...\\,+\\frac{1}{(n+1)\\sqrt{n+1}}+\\,...\\,=\\sum\\limits_{n=1}^{+\\infty}\\frac{1}{(n+1)\\sqrt{n+1}}$$\n",
    "\n",
    "(*) Двумя различными признаками."
   ]
  },
  {
   "cell_type": "markdown",
   "id": "a8f7d3c6",
   "metadata": {},
   "source": [
    "Необходимое условие сходимости выполняется: \n",
    "### $\\lim_{n\\to +\\infty}a_{n}=\\lim_{n\\to +\\infty}\\frac{1}{(n+1)\\sqrt{n+1}} = \\frac{1}{\\infty\\cdot\\infty} = 0$\n",
    "1) Второй признак сравнения:\n",
    "### $\\frac{1}{(n+1)\\sqrt{n+1}} \\sim O\\Bigr(\\frac{1}{n^\\frac{3}{2}}\\Bigl)$\n",
    "$\\frac{3}{2} > 1$, следовательно ряд сходится\n",
    "\n",
    "2) Интегральный признак Коши\n",
    "### $\\int\\limits_{1}^{+\\infty}a_{x}\\,dx = \\int\\limits_{1}^{+\\infty}\\frac{1}{(x+1)\\sqrt{x+1}}dx = \\int\\limits_{1}^{+\\infty}(x+1)^{-\\frac{3}{2}}dx = \\frac{(x+1)^{-\\frac{1}{2}}}{-\\frac{1}{2}}\\bigg|_{1}^{+\\infty} = \\frac{-2}{\\sqrt{x+1}}\\bigg|_{1}^{+\\infty} = 0 - (-\\sqrt2) = \\sqrt2$\n",
    "Интеграл сходится, следовательно ряд тоже сходится"
   ]
  },
  {
   "cell_type": "code",
   "execution_count": 2,
   "id": "260fb698",
   "metadata": {},
   "outputs": [
    {
     "data": {
      "image/png": "[encoded data removed]",
      "text/latex": [
       "$\\displaystyle \\frac{1}{\\left(x + 1\\right)^{\\frac{3}{2}}}$"
      ],
      "text/plain": [
       "    1     \n",
       "──────────\n",
       "       3/2\n",
       "(x + 1)   "
      ]
     },
     "execution_count": 2,
     "metadata": {},
     "output_type": "execute_result"
    }
   ],
   "source": [
    "x=Symbol('x')\n",
    "f=1/(x+1)/sqrt(x+1)\n",
    "f"
   ]
  },
  {
   "cell_type": "code",
   "execution_count": 3,
   "id": "8019cd7c",
   "metadata": {},
   "outputs": [
    {
     "data": {
      "image/png": "[encoded data removed]",
      "text/latex": [
       "$\\displaystyle \\sqrt{2}$"
      ],
      "text/plain": [
       "√2"
      ]
     },
     "execution_count": 3,
     "metadata": {},
     "output_type": "execute_result"
    }
   ],
   "source": [
    "integrate(f,(x, 1, +oo))"
   ]
  },
  {
   "cell_type": "markdown",
   "id": "d2af1f54",
   "metadata": {},
   "source": [
    "__2.__ Исследовать сходимость ряда\n",
    "\n",
    "### $$\\frac{1000}{1!}+\\frac{1000^2}{2!}+\\,...\\,+\\frac{1000^n}{n!}+\\,...\\,=\\sum\\limits_{n=1}^{+\\infty}\\frac{1000^n}{n!}$$"
   ]
  },
  {
   "cell_type": "markdown",
   "id": "196ffb96",
   "metadata": {},
   "source": [
    "Необходимое условие сходимости выполняется: \n",
    "### $\\lim_{n\\to +\\infty}a_{n}=\\lim_{n\\to +\\infty}\\frac{1000^n}{n!}=\\lim_{n\\to +\\infty}(\\frac{1000}{1}\\cdot\\frac{1000}{2}\\cdot...\\cdot\\frac{1000}{n}) = 0$\n",
    "\n",
    "Признак д'Аламбера:\n",
    "### $\\lim_{n\\to +\\infty}\\frac{a_{n+1}}{a_{n}}=\\lim_{n\\to +\\infty}(\\frac{1000^{n+1}}{(n+1)!}\\cdot\\frac{n!}{1000^n})=\\lim_{n\\to +\\infty}\\frac{1000}{n+1} = 0 $\n",
    "$0 < 1$, следовательно ряд сходится"
   ]
  },
  {
   "cell_type": "markdown",
   "id": "a880891a",
   "metadata": {},
   "source": [
    "__3*.__ Исследовать сходимость ряда\n",
    "\n",
    "### $$\\frac{2\\cdot1!}{1}+\\frac{2^2\\cdot2!}{2^2}+\\,...\\,+\\frac{2^n\\cdot n!}{n^n}+\\,...\\,=\\sum\\limits_{n=1}^{+\\infty}\\frac{2^n\\cdot n!}{n^n}$$"
   ]
  },
  {
   "cell_type": "markdown",
   "id": "594107d4",
   "metadata": {},
   "source": [
    "Признак д'Аламбера:\n",
    "### $\\lim_{n\\to +\\infty}\\frac{a_{n+1}}{a_{n}}=\\lim_{n\\to +\\infty}(\\frac{2^{n+1}\\cdot (n+1)!}{(n+1)^{n+1}}\\cdot\\frac{n^n}{2^n\\cdot n!}) = \\lim_{n\\to +\\infty}(\\frac{2}{(n+1)^n}\\cdot\\frac{n^n}{1}) = 2\\lim_{n\\to +\\infty}(\\frac{n}{n+1})^n = 2\\lim_{n\\to +\\infty}(\\frac{n}{(1+\\frac{1}{n})n})^n =$\n",
    "### $= 2\\lim_{n\\to +\\infty}(\\frac{1^n}{(1+\\frac{1}{n})^n}) = \\frac{2}{e} < 1$\n",
    "следовательно ряд сходится"
   ]
  },
  {
   "cell_type": "markdown",
   "id": "cfdf1b7b",
   "metadata": {},
   "source": [
    "__4*.__ Исследовать сходимость ряда\n",
    "\n",
    "### $$\\frac{3\\cdot1!}{1}+\\frac{3^2\\cdot2!}{2^2}+\\,...\\,+\\frac{3^n\\cdot n!}{n^n}+\\,...\\,=\\sum\\limits_{n=1}^{+\\infty}\\frac{3^n\\cdot n!}{n^n}$$"
   ]
  },
  {
   "cell_type": "markdown",
   "id": "ab256d24",
   "metadata": {},
   "source": [
    "Необходимый признак сходимости не выполняется, следовательно ряд расходится:"
   ]
  },
  {
   "cell_type": "code",
   "execution_count": 4,
   "id": "606a27bc",
   "metadata": {},
   "outputs": [
    {
     "data": {
      "image/png": "[encoded data removed]",
      "text/latex": [
       "$\\displaystyle 3^{x} x^{- x} x!$"
      ],
      "text/plain": [
       " x  -x   \n",
       "3 ⋅x  ⋅x!"
      ]
     },
     "execution_count": 4,
     "metadata": {},
     "output_type": "execute_result"
    }
   ],
   "source": [
    "f=3**x*factorial(x) / x**x\n",
    "f"
   ]
  },
  {
   "cell_type": "code",
   "execution_count": 5,
   "id": "edb76e22",
   "metadata": {
    "scrolled": true
   },
   "outputs": [
    {
     "data": {
      "image/png": "[encoded data removed]",
      "text/latex": [
       "$\\displaystyle \\infty$"
      ],
      "text/plain": [
       "∞"
      ]
     },
     "execution_count": 5,
     "metadata": {},
     "output_type": "execute_result"
    }
   ],
   "source": [
    "limit(f, x, oo)"
   ]
  },
  {
   "cell_type": "markdown",
   "id": "012f8bbe",
   "metadata": {},
   "source": [
    "либо по признаку д'Аламбера аналогично заданию №3 получаем:\n",
    "### $\\lim_{n\\to +\\infty}\\frac{a_{n+1}}{a_{n}}=\\lim_{n\\to +\\infty}(\\frac{3^{n+1}\\cdot (n+1)!}{(n+1)^{n+1}}\\cdot\\frac{n^n}{3^n\\cdot n!}) = 3\\lim_{n\\to +\\infty}(\\frac{1^n}{(1+\\frac{1}{n})^n}) = \\frac{3}{e} > 1$\n",
    "следовательно ряд расходится"
   ]
  },
  {
   "cell_type": "markdown",
   "id": "cea97078",
   "metadata": {},
   "source": [
    "__5*.__ Исследовать сходимость ряда\n",
    "\n",
    "### $$-\\frac{\\sqrt1}{2}+\\frac{\\sqrt2}{3}-\\,...\\,+\\frac{(-1)^n\\sqrt n}{n+1}+\\,...\\,=\\sum\\limits_{n=1}^{+\\infty}\\frac{(-1)^n\\sqrt n}{n+1}$$"
   ]
  },
  {
   "cell_type": "markdown",
   "id": "71c17396",
   "metadata": {},
   "source": [
    "Рассмотрим ряд $|a_n|$:\n",
    "### $\\sum\\limits_{n=1}^{+\\infty}\\frac{1^n\\sqrt n}{n+1}=\\sum\\limits_{n=1}^{+\\infty}\\frac{\\sqrt n}{n+1}$\n",
    "Второй признак сравнения:\n",
    "### $\\frac{\\sqrt n}{n+1} \\sim O\\Bigr(\\frac{1}{n^\\frac{1}{2}}\\Bigl)$\n",
    "$\\frac{1}{2} < 1$, следовательно ряд расходится\n",
    "\n",
    "Главный член ряда $\\sum\\limits_{n=1}^{+\\infty}\\frac{(-1)^n\\sqrt n}{n+1}$ монотонно стремится к нулю по модулю:\n",
    "### $\\lim_{n\\to +\\infty}|a_{n}|=\\lim_{n\\to +\\infty}\\frac{\\sqrt n}{n+1}=\\lim_{n\\to +\\infty}\\frac{n^{\\frac{1}{2}}}{n^1+1}=\\frac{0}{1}=0$\n",
    "Следовательно, по признаку Лейбница этот знакопеременный ряд сходится, причем условно."
   ]
  },
  {
   "cell_type": "markdown",
   "id": "7e69468c",
   "metadata": {},
   "source": [
    "__6*.__ Разложить функцию $y=e^x$ в ряд Маклорена, а также в ряд Фурье на отрезке $[-\\pi, \\pi]$. Построить график функции и разложений."
   ]
  },
  {
   "cell_type": "markdown",
   "id": "20498638",
   "metadata": {},
   "source": [
    "- ряд Маклорена:\n",
    "### $$f(x)=\\sum\\limits_{n=0}^{+\\infty}\\frac{f^{(n)}(0)}{n!}x^n=\\sum\\limits_{n=0}^{+\\infty}\\frac{x^n}{n!}$$"
   ]
  },
  {
   "cell_type": "code",
   "execution_count": 6,
   "id": "119ca078",
   "metadata": {},
   "outputs": [
    {
     "data": {
      "image/png": "[encoded data removed]",
      "text/plain": [
       "<Figure size 720x360 with 1 Axes>"
      ]
     },
     "metadata": {
      "needs_background": "light"
     },
     "output_type": "display_data"
    }
   ],
   "source": [
    "import matplotlib.pyplot as plt\n",
    "import math\n",
    "import numpy as np\n",
    "\n",
    "def f_x(x):\n",
    "    return math.e**x\n",
    "\n",
    "def mcloren(x):\n",
    "    return sum([x**n/math.factorial(n) for n in range (10)])\n",
    "\n",
    "x = np.linspace(-np.pi,np.pi,200)\n",
    "plt.figure(figsize=(10, 5))\n",
    "plt.plot(x,f_x(x), c='b', label='f(x)')\n",
    "plt.plot(x,mcloren(x), 'y--', label='mcloren')\n",
    "plt.show()"
   ]
  },
  {
   "cell_type": "markdown",
   "id": "b19e7c2e",
   "metadata": {},
   "source": [
    "- ряд Фурье:\n",
    "### $f(x)=a_{0}+\\sum\\limits_{n=1}^{+\\infty}(a_n\\cos nx+b_n\\sin nx)$\n",
    "\n",
    "где\n",
    "\n",
    "### $a_0=\\frac{1}{2\\pi}\\int\\limits_{-\\pi}^\\pi f(x)\\,dx,\\,\\,\\,\\, a_n=\\frac{1}{\\pi}\\int\\limits_{-\\pi}^\\pi f(x)\\cos nx\\,dx,\\,\\,\\,\\, b_n=\\frac{1}{\\pi}\\int\\limits_{-\\pi}^\\pi f(x)\\sin nx\\,dx$\n",
    "\n",
    "Найдем $a_0$:\n",
    "\n",
    "### $$a_0=\\frac{1}{2\\pi}\\int\\limits_{-\\pi}^\\pi f(x)\\,dx=\\frac{1}{2\\pi}\\int\\limits_{-\\pi}^\\pi e^x\\,dx=\\frac{1}{2\\pi}\\cdot e^x\\Bigr|_{-\\pi}^\\pi=\\frac{e^{\\pi}-e^{-\\pi}}{2\\pi}$$\n",
    "\n",
    "Найдем $a_n$:\n",
    "\n",
    "### $a_n=\\frac{1}{\\pi}\\int\\limits_{-\\pi}^\\pi f(x)\\cos nx\\,dx=\\frac{1}{\\pi}\\int\\limits_{-\\pi}^\\pi e^x\\cos nx\\,dx=$\n",
    "Возьмем по частям:\n",
    "### $U=e^x\\,\\,\\,\\,\\,\\Rightarrow\\,\\,\\,\\,\\, dU=e^x\\,dx$\n",
    "### $dV=\\cos nx\\,dx\\,\\,\\,\\,\\,\\Rightarrow\\,\\,\\,\\,\\, V=\\frac{1}{n}\\sin nx$\n",
    "### $=\\Bigr(\\frac{1}{\\pi n}e^x\\sin nx\\Bigl)\\Bigr|_{-\\pi}^\\pi-\\frac{1}{\\pi n}\\int\\limits_{-\\pi}^\\pi e^x\\sin nx\\,dx=0-\\frac{1}{\\pi n}\\int\\limits_{-\\pi}^\\pi e^x\\sin nx\\,dx=$\n",
    "Скобка равна нулю, т.к. $\\sin \\pi n=\\sin (-\\pi n)=0$. Интеграл возьмем еще раз по частям:\n",
    "### $U=e^x\\,\\,\\,\\,\\,\\Rightarrow\\,\\,\\,\\,\\, dU=e^x\\,dx$\n",
    "### $dV=\\sin nx\\,dx\\,\\,\\,\\,\\,\\Rightarrow\\,\\,\\,\\,\\, V=-\\frac{1}{n}\\cos nx$\n",
    "### $=\\Bigr(\\frac{1}{\\pi n^2}e^x\\cos nx\\Bigl)\\Bigr|_{-\\pi}^\\pi-\\frac{1}{\\pi n^2}\\int\\limits_{-\\pi}^\\pi e^x\\cos nx\\,dx$\n",
    "перенесем интеграл влево:\n",
    "### $\\frac{n^2+1}{\\pi n^2}\\int\\limits_{-\\pi}^\\pi e^x\\cos nx\\,dx=\\Bigr(\\frac{1}{\\pi n^2}e^x\\cos nx\\Bigl)\\Bigr|_{-\\pi}^\\pi=\\Bigr(\\frac{1}{\\pi n^2}e^\\pi\\cos n\\pi\\Bigl)-\\Bigr(\\frac{1}{\\pi n^2}e^{-\\pi}\\cos n(-\\pi)\\Bigl)=\\frac{(-1)^n(e^\\pi-e^{-\\pi})}{\\pi n^2}$\n",
    "Получаем:\n",
    "### $$a_n=\\frac{1}{\\pi}\\int\\limits_{-\\pi}^\\pi e^x\\cos nx\\,dx=\\frac{(-1)^n(e^\\pi-e^{-\\pi})}{\\pi(n^2+1)}$$\n",
    "\n",
    "Найдем $b_n$:\n",
    "\n",
    "### $b_n=\\frac{1}{\\pi}\\int\\limits_{-\\pi}^\\pi f(x)\\sin nx\\,dx=\\frac{1}{\\pi}\\int\\limits_{-\\pi}^\\pi e^x\\sin nx\\,dx=$\n",
    "Возьмем по частям:\n",
    "### $U=e^x\\,\\,\\,\\,\\,\\Rightarrow\\,\\,\\,\\,\\, dU=e^x\\,dx$\n",
    "### $dV=\\sin nx\\,dx\\,\\,\\,\\,\\,\\Rightarrow\\,\\,\\,\\,\\, V=-\\frac{1}{n}\\cos nx$ \n",
    "### $=\\Bigr(-\\frac{1}{\\pi n}e^x\\cos nx\\Bigl)\\Bigr|_{-\\pi}^\\pi+\\frac{1}{\\pi n}\\int\\limits_{-\\pi}^\\pi e^x\\cos nx\\,dx=-\\frac{(-1)^n(e^\\pi - e^{-\\pi})}{\\pi n}+\\frac{1}{\\pi n}\\int\\limits_{-\\pi}^\\pi e^x\\cos nx\\,dx=$\n",
    "Интеграл возьмем еще раз по частям:\n",
    "### $U=e^x\\,\\,\\,\\,\\,\\Rightarrow\\,\\,\\,\\,\\, dU=e^x\\,dx$\n",
    "### $dV=\\cos nx\\,dx\\,\\,\\,\\,\\,\\Rightarrow\\,\\,\\,\\,\\, V=\\frac{1}{n}\\sin nx$ \n",
    "### $=-\\frac{(-1)^n(e^\\pi - e^{-\\pi})}{\\pi n}+\\Bigr(\\frac{1}{\\pi n^2}e^x\\sin nx\\Bigl)\\Bigr|_{-\\pi}^\\pi-\\frac{1}{\\pi n^2}\\int\\limits_{-\\pi}^\\pi e^x\\sin nx\\,dx=$\n",
    "Скобка равна нулю, т.к. $\\sin \\pi n=\\sin (-\\pi n)=0$. Перенесем интеграл влево:\n",
    "### $\\frac{n^2+1}{\\pi n^2}\\int\\limits_{-\\pi}^\\pi e^x\\sin nx\\,dx=-\\frac{(-1)^n(e^\\pi - e^{-\\pi})}{\\pi n}$\n",
    "Получаем:\n",
    "### $$b_n=\\frac{1}{\\pi}\\int\\limits_{-\\pi}^\\pi e^x\\sin nx\\,dx=\\frac{n(-1)^n(e^{-\\pi}-e^\\pi)}{\\pi(n^2+1)}$$\n",
    "Окончательный результат:\n",
    "### $$f(x)=\\frac{e^{\\pi}-e^{-\\pi}}{2\\pi}+\\sum\\limits_{n=1}^{+\\infty}(\\frac{(-1)^n(e^\\pi-e^{-\\pi})}{\\pi(n^2+1)}\\cos nx+\\frac{n(-1)^n(e^{-\\pi}-e^\\pi)}{\\pi(n^2+1)}\\sin nx)$$\n",
    "### $$f(x)=\\frac{e^{\\pi}-e^{-\\pi}}{2\\pi}+\\frac{e^\\pi-e^{-\\pi}}{\\pi}\\sum\\limits_{n=1}^{+\\infty}\\frac{(-1)^n}{(n^2+1)}\\Bigl(\\cos nx-n\\sin nx\\Bigr)$$"
   ]
  },
  {
   "cell_type": "code",
   "execution_count": 9,
   "id": "2b667a7c",
   "metadata": {},
   "outputs": [
    {
     "data": {
      "image/png": "[encoded data removed]",
      "text/plain": [
       "<Figure size 720x360 with 1 Axes>"
      ]
     },
     "metadata": {
      "needs_background": "light"
     },
     "output_type": "display_data"
    }
   ],
   "source": [
    "import matplotlib.pyplot as plt\n",
    "import math\n",
    "import numpy as np\n",
    "\n",
    "pi = np.pi\n",
    "e_pi = math.e**pi\n",
    "\n",
    "def f_x(x):\n",
    "    return math.e**x\n",
    "\n",
    "def furier(x):\n",
    "    a0=(e_pi-1/e_pi)/(2*pi)\n",
    "    factor = (e_pi-1/e_pi)/pi\n",
    "    return a0+factor*sum([(-1)**n/(n**2+1)*(np.cos(n*x)-n*np.sin(n*x)) for n in range (1,10000)])\n",
    "\n",
    "x = np.linspace(-pi,pi,200)\n",
    "plt.figure(figsize=(10, 5))\n",
    "plt.plot(x,f_x(x), c='b', label='f(x)')\n",
    "plt.plot(x,furier(x), 'y.', label='furier')\n",
    "plt.show()"
   ]
  }
 ],
 "metadata": {
  "kernelspec": {
   "display_name": "Python 3",
   "language": "python",
   "name": "python3"
  },
  "language_info": {
   "codemirror_mode": {
    "name": "ipython",
    "version": 3
   },
   "file_extension": ".py",
   "mimetype": "text/x-python",
   "name": "python",
   "nbconvert_exporter": "python",
   "pygments_lexer": "ipython3",
   "version": "3.8.8"
  }
 },
 "nbformat": 4,
 "nbformat_minor": 5
}
